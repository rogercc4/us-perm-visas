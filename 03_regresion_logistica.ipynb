{
 "cells": [
  {
   "cell_type": "markdown",
   "metadata": {},
   "source": [
    "# Caso: US Permanent Visa Applications"
   ]
  },
  {
   "cell_type": "code",
   "execution_count": 1,
   "metadata": {},
   "outputs": [],
   "source": [
    "import numpy as np\n",
    "import pandas as pd\n",
    "import matplotlib.pyplot as plt\n",
    "%matplotlib inline\n",
    "import seaborn as sns"
   ]
  },
  {
   "cell_type": "code",
   "execution_count": 2,
   "metadata": {},
   "outputs": [],
   "source": [
    "#Realizamos la lectrua de la información y procedeomos a modificar las fechas a valores legibles\n",
    "datos = pd.read_csv('us_perm_visas.csv',low_memory=False,\n",
    "        parse_dates=['decision_date','case_received_date'])"
   ]
  },
  {
   "cell_type": "markdown",
   "metadata": {},
   "source": [
    "# Descripción del conjunto de datos\n",
    "\n",
    "Número y tipo de características (binarias, discretas, continuas, etc.)"
   ]
  },
  {
   "cell_type": "code",
   "execution_count": 3,
   "metadata": {},
   "outputs": [
    {
     "name": "stdout",
     "output_type": "stream",
     "text": [
      "Número de atributos/columnas: 154\n",
      "Número de filas: 374362\n"
     ]
    }
   ],
   "source": [
    "# Número de atributos o características y número de filas\n",
    "print(\"Número de atributos/columnas:\",len(datos.columns))\n",
    "print(\"Número de filas:\",len(datos))"
   ]
  },
  {
   "cell_type": "code",
   "execution_count": 4,
   "metadata": {},
   "outputs": [
    {
     "data": {
      "text/plain": [
       "object            142\n",
       "float64            10\n",
       "datetime64[ns]      2\n",
       "dtype: int64"
      ]
     },
     "execution_count": 4,
     "metadata": {},
     "output_type": "execute_result"
    }
   ],
   "source": [
    "# Tipos de datos existentes en las características\n",
    "datos.dtypes.value_counts()"
   ]
  },
  {
   "cell_type": "code",
   "execution_count": 5,
   "metadata": {},
   "outputs": [
    {
     "data": {
      "text/html": [
       "<div>\n",
       "<style scoped>\n",
       "    .dataframe tbody tr th:only-of-type {\n",
       "        vertical-align: middle;\n",
       "    }\n",
       "\n",
       "    .dataframe tbody tr th {\n",
       "        vertical-align: top;\n",
       "    }\n",
       "\n",
       "    .dataframe thead th {\n",
       "        text-align: right;\n",
       "    }\n",
       "</style>\n",
       "<table border=\"1\" class=\"dataframe\">\n",
       "  <thead>\n",
       "    <tr style=\"text-align: right;\">\n",
       "      <th></th>\n",
       "      <th>add_these_pw_job_title_9089</th>\n",
       "      <th>agent_city</th>\n",
       "      <th>agent_firm_name</th>\n",
       "      <th>agent_state</th>\n",
       "      <th>application_type</th>\n",
       "      <th>case_no</th>\n",
       "      <th>case_number</th>\n",
       "      <th>case_received_date</th>\n",
       "      <th>case_status</th>\n",
       "      <th>class_of_admission</th>\n",
       "      <th>...</th>\n",
       "      <th>ri_pvt_employment_firm_to</th>\n",
       "      <th>ri_us_workers_considered</th>\n",
       "      <th>schd_a_sheepherder</th>\n",
       "      <th>us_economic_sector</th>\n",
       "      <th>wage_offer_from_9089</th>\n",
       "      <th>wage_offer_to_9089</th>\n",
       "      <th>wage_offer_unit_of_pay_9089</th>\n",
       "      <th>wage_offered_from_9089</th>\n",
       "      <th>wage_offered_to_9089</th>\n",
       "      <th>wage_offered_unit_of_pay_9089</th>\n",
       "    </tr>\n",
       "  </thead>\n",
       "  <tbody>\n",
       "    <tr>\n",
       "      <th>0</th>\n",
       "      <td>NaN</td>\n",
       "      <td>NaN</td>\n",
       "      <td>NaN</td>\n",
       "      <td>NaN</td>\n",
       "      <td>PERM</td>\n",
       "      <td>A-07323-97014</td>\n",
       "      <td>NaN</td>\n",
       "      <td>NaT</td>\n",
       "      <td>Certified</td>\n",
       "      <td>J-1</td>\n",
       "      <td>...</td>\n",
       "      <td>NaN</td>\n",
       "      <td>NaN</td>\n",
       "      <td>NaN</td>\n",
       "      <td>IT</td>\n",
       "      <td>75629.0</td>\n",
       "      <td>NaN</td>\n",
       "      <td>yr</td>\n",
       "      <td>NaN</td>\n",
       "      <td>NaN</td>\n",
       "      <td>NaN</td>\n",
       "    </tr>\n",
       "    <tr>\n",
       "      <th>1</th>\n",
       "      <td>NaN</td>\n",
       "      <td>NaN</td>\n",
       "      <td>NaN</td>\n",
       "      <td>NaN</td>\n",
       "      <td>PERM</td>\n",
       "      <td>A-07332-99439</td>\n",
       "      <td>NaN</td>\n",
       "      <td>NaT</td>\n",
       "      <td>Denied</td>\n",
       "      <td>B-2</td>\n",
       "      <td>...</td>\n",
       "      <td>NaN</td>\n",
       "      <td>NaN</td>\n",
       "      <td>NaN</td>\n",
       "      <td>Other Economic Sector</td>\n",
       "      <td>37024.0</td>\n",
       "      <td>NaN</td>\n",
       "      <td>yr</td>\n",
       "      <td>NaN</td>\n",
       "      <td>NaN</td>\n",
       "      <td>NaN</td>\n",
       "    </tr>\n",
       "    <tr>\n",
       "      <th>2</th>\n",
       "      <td>NaN</td>\n",
       "      <td>NaN</td>\n",
       "      <td>NaN</td>\n",
       "      <td>NaN</td>\n",
       "      <td>PERM</td>\n",
       "      <td>A-07333-99643</td>\n",
       "      <td>NaN</td>\n",
       "      <td>NaT</td>\n",
       "      <td>Certified</td>\n",
       "      <td>H-1B</td>\n",
       "      <td>...</td>\n",
       "      <td>NaN</td>\n",
       "      <td>NaN</td>\n",
       "      <td>NaN</td>\n",
       "      <td>Aerospace</td>\n",
       "      <td>47923.0</td>\n",
       "      <td>NaN</td>\n",
       "      <td>yr</td>\n",
       "      <td>NaN</td>\n",
       "      <td>NaN</td>\n",
       "      <td>NaN</td>\n",
       "    </tr>\n",
       "    <tr>\n",
       "      <th>3</th>\n",
       "      <td>NaN</td>\n",
       "      <td>NaN</td>\n",
       "      <td>NaN</td>\n",
       "      <td>NaN</td>\n",
       "      <td>PERM</td>\n",
       "      <td>A-07339-01930</td>\n",
       "      <td>NaN</td>\n",
       "      <td>NaT</td>\n",
       "      <td>Certified</td>\n",
       "      <td>B-2</td>\n",
       "      <td>...</td>\n",
       "      <td>NaN</td>\n",
       "      <td>NaN</td>\n",
       "      <td>NaN</td>\n",
       "      <td>Other Economic Sector</td>\n",
       "      <td>10.97</td>\n",
       "      <td>NaN</td>\n",
       "      <td>hr</td>\n",
       "      <td>NaN</td>\n",
       "      <td>NaN</td>\n",
       "      <td>NaN</td>\n",
       "    </tr>\n",
       "    <tr>\n",
       "      <th>4</th>\n",
       "      <td>NaN</td>\n",
       "      <td>NaN</td>\n",
       "      <td>NaN</td>\n",
       "      <td>NaN</td>\n",
       "      <td>PERM</td>\n",
       "      <td>A-07345-03565</td>\n",
       "      <td>NaN</td>\n",
       "      <td>NaT</td>\n",
       "      <td>Certified</td>\n",
       "      <td>L-1</td>\n",
       "      <td>...</td>\n",
       "      <td>NaN</td>\n",
       "      <td>NaN</td>\n",
       "      <td>NaN</td>\n",
       "      <td>Advanced Mfg</td>\n",
       "      <td>100000.0</td>\n",
       "      <td>NaN</td>\n",
       "      <td>yr</td>\n",
       "      <td>NaN</td>\n",
       "      <td>NaN</td>\n",
       "      <td>NaN</td>\n",
       "    </tr>\n",
       "  </tbody>\n",
       "</table>\n",
       "<p>5 rows × 154 columns</p>\n",
       "</div>"
      ],
      "text/plain": [
       "  add_these_pw_job_title_9089 agent_city agent_firm_name agent_state  \\\n",
       "0                         NaN        NaN             NaN         NaN   \n",
       "1                         NaN        NaN             NaN         NaN   \n",
       "2                         NaN        NaN             NaN         NaN   \n",
       "3                         NaN        NaN             NaN         NaN   \n",
       "4                         NaN        NaN             NaN         NaN   \n",
       "\n",
       "  application_type        case_no case_number case_received_date case_status  \\\n",
       "0             PERM  A-07323-97014         NaN                NaT   Certified   \n",
       "1             PERM  A-07332-99439         NaN                NaT      Denied   \n",
       "2             PERM  A-07333-99643         NaN                NaT   Certified   \n",
       "3             PERM  A-07339-01930         NaN                NaT   Certified   \n",
       "4             PERM  A-07345-03565         NaN                NaT   Certified   \n",
       "\n",
       "  class_of_admission              ...               ri_pvt_employment_firm_to  \\\n",
       "0                J-1              ...                                     NaN   \n",
       "1                B-2              ...                                     NaN   \n",
       "2               H-1B              ...                                     NaN   \n",
       "3                B-2              ...                                     NaN   \n",
       "4                L-1              ...                                     NaN   \n",
       "\n",
       "  ri_us_workers_considered schd_a_sheepherder     us_economic_sector  \\\n",
       "0                      NaN                NaN                     IT   \n",
       "1                      NaN                NaN  Other Economic Sector   \n",
       "2                      NaN                NaN              Aerospace   \n",
       "3                      NaN                NaN  Other Economic Sector   \n",
       "4                      NaN                NaN           Advanced Mfg   \n",
       "\n",
       "  wage_offer_from_9089 wage_offer_to_9089 wage_offer_unit_of_pay_9089  \\\n",
       "0              75629.0                NaN                          yr   \n",
       "1              37024.0                NaN                          yr   \n",
       "2              47923.0                NaN                          yr   \n",
       "3                10.97                NaN                          hr   \n",
       "4             100000.0                NaN                          yr   \n",
       "\n",
       "  wage_offered_from_9089 wage_offered_to_9089  wage_offered_unit_of_pay_9089  \n",
       "0                    NaN                  NaN                            NaN  \n",
       "1                    NaN                  NaN                            NaN  \n",
       "2                    NaN                  NaN                            NaN  \n",
       "3                    NaN                  NaN                            NaN  \n",
       "4                    NaN                  NaN                            NaN  \n",
       "\n",
       "[5 rows x 154 columns]"
      ]
     },
     "execution_count": 5,
     "metadata": {},
     "output_type": "execute_result"
    }
   ],
   "source": [
    "# descripcion de las caracterísiticas. Si el dataframe tiene diferentes tipos de datos, \n",
    "# sólo se consideran los datos numéricos \n",
    "datos.head()"
   ]
  },
  {
   "cell_type": "markdown",
   "metadata": {},
   "source": [
    "Todo el set de datos se compone de 374362 filas o registros de aplicaciones. Mientras que se cuentan con 154 atributos los cuales se dividen entre 142 valores categóricos, 10 numéricos y 2 de fechas"
   ]
  },
  {
   "cell_type": "code",
   "execution_count": 6,
   "metadata": {},
   "outputs": [
    {
     "name": "stdout",
     "output_type": "stream",
     "text": [
      "['add_these_pw_job_title_9089' 'agent_city' 'agent_firm_name'\n",
      " 'agent_state' 'application_type' 'case_no' 'case_number'\n",
      " 'case_received_date' 'case_status' 'class_of_admission'\n",
      " 'country_of_citizenship' 'country_of_citzenship' 'decision_date'\n",
      " 'employer_address_1' 'employer_address_2' 'employer_city'\n",
      " 'employer_country' 'employer_decl_info_title' 'employer_name'\n",
      " 'employer_num_employees' 'employer_phone' 'employer_phone_ext'\n",
      " 'employer_postal_code' 'employer_state' 'employer_yr_estab'\n",
      " 'foreign_worker_info_alt_edu_experience'\n",
      " 'foreign_worker_info_birth_country' 'foreign_worker_info_city'\n",
      " 'foreign_worker_info_education' 'foreign_worker_info_education_other'\n",
      " 'foreign_worker_info_inst' 'foreign_worker_info_major'\n",
      " 'foreign_worker_info_postal_code' 'foreign_worker_info_rel_occup_exp'\n",
      " 'foreign_worker_info_req_experience' 'foreign_worker_info_state'\n",
      " 'foreign_worker_info_training_comp' 'foreign_worker_ownership_interest'\n",
      " 'foreign_worker_yr_rel_edu_completed' 'fw_info_alt_edu_experience'\n",
      " 'fw_info_birth_country' 'fw_info_education_other' 'fw_info_postal_code'\n",
      " 'fw_info_rel_occup_exp' 'fw_info_req_experience' 'fw_info_training_comp'\n",
      " 'fw_info_yr_rel_edu_completed' 'fw_ownership_interest'\n",
      " 'ji_foreign_worker_live_on_premises' 'ji_fw_live_on_premises'\n",
      " 'ji_live_in_dom_svc_contract' 'ji_live_in_domestic_service'\n",
      " 'ji_offered_to_sec_j_foreign_worker' 'ji_offered_to_sec_j_fw'\n",
      " 'job_info_alt_cmb_ed_oth_yrs' 'job_info_alt_combo_ed'\n",
      " 'job_info_alt_combo_ed_exp' 'job_info_alt_combo_ed_other'\n",
      " 'job_info_alt_field' 'job_info_alt_field_name' 'job_info_alt_occ'\n",
      " 'job_info_alt_occ_job_title' 'job_info_alt_occ_num_months'\n",
      " 'job_info_combo_occupation' 'job_info_education'\n",
      " 'job_info_education_other' 'job_info_experience'\n",
      " 'job_info_experience_num_months' 'job_info_foreign_ed'\n",
      " 'job_info_foreign_lang_req' 'job_info_job_req_normal'\n",
      " 'job_info_job_title' 'job_info_major' 'job_info_training'\n",
      " 'job_info_training_field' 'job_info_training_num_months'\n",
      " 'job_info_work_city' 'job_info_work_postal_code' 'job_info_work_state'\n",
      " 'naics_2007_us_code' 'naics_2007_us_title' 'naics_code' 'naics_title'\n",
      " 'naics_us_code' 'naics_us_code_2007' 'naics_us_title'\n",
      " 'naics_us_title_2007' 'orig_case_no' 'orig_file_date'\n",
      " 'preparer_info_emp_completed' 'preparer_info_title' 'pw_amount_9089'\n",
      " 'pw_determ_date' 'pw_expire_date' 'pw_job_title_908' 'pw_job_title_9089'\n",
      " 'pw_level_9089' 'pw_soc_code' 'pw_soc_title' 'pw_source_name_9089'\n",
      " 'pw_source_name_other_9089' 'pw_track_num' 'pw_unit_of_pay_9089'\n",
      " 'rec_info_barg_rep_notified' 'recr_info_barg_rep_notified'\n",
      " 'recr_info_coll_teach_comp_proc' 'recr_info_coll_univ_teacher'\n",
      " 'recr_info_employer_rec_payment' 'recr_info_first_ad_start'\n",
      " 'recr_info_job_fair_from' 'recr_info_job_fair_to'\n",
      " 'recr_info_on_campus_recr_from' 'recr_info_on_campus_recr_to'\n",
      " 'recr_info_pro_org_advert_from' 'recr_info_pro_org_advert_to'\n",
      " 'recr_info_prof_org_advert_from' 'recr_info_prof_org_advert_to'\n",
      " 'recr_info_professional_occ' 'recr_info_radio_tv_ad_from'\n",
      " 'recr_info_radio_tv_ad_to' 'recr_info_second_ad_start'\n",
      " 'recr_info_sunday_newspaper' 'recr_info_swa_job_order_end'\n",
      " 'recr_info_swa_job_order_start' 'refile' 'ri_1st_ad_newspaper_name'\n",
      " 'ri_2nd_ad_newspaper_name' 'ri_2nd_ad_newspaper_or_journal'\n",
      " 'ri_campus_placement_from' 'ri_campus_placement_to'\n",
      " 'ri_coll_tch_basic_process' 'ri_coll_teach_pro_jnl'\n",
      " 'ri_coll_teach_select_date' 'ri_employee_referral_prog_from'\n",
      " 'ri_employee_referral_prog_to' 'ri_employer_web_post_from'\n",
      " 'ri_employer_web_post_to' 'ri_job_search_website_from'\n",
      " 'ri_job_search_website_to' 'ri_layoff_in_past_six_months'\n",
      " 'ri_local_ethnic_paper_from' 'ri_local_ethnic_paper_to'\n",
      " 'ri_posted_notice_at_worksite' 'ri_pvt_employment_firm_from'\n",
      " 'ri_pvt_employment_firm_to' 'ri_us_workers_considered'\n",
      " 'schd_a_sheepherder' 'us_economic_sector' 'wage_offer_from_9089'\n",
      " 'wage_offer_to_9089' 'wage_offer_unit_of_pay_9089'\n",
      " 'wage_offered_from_9089' 'wage_offered_to_9089'\n",
      " 'wage_offered_unit_of_pay_9089']\n"
     ]
    }
   ],
   "source": [
    "print(datos.columns.values)"
   ]
  },
  {
   "cell_type": "code",
   "execution_count": 7,
   "metadata": {},
   "outputs": [
    {
     "data": {
      "text/html": [
       "<div>\n",
       "<style scoped>\n",
       "    .dataframe tbody tr th:only-of-type {\n",
       "        vertical-align: middle;\n",
       "    }\n",
       "\n",
       "    .dataframe tbody tr th {\n",
       "        vertical-align: top;\n",
       "    }\n",
       "\n",
       "    .dataframe thead th {\n",
       "        text-align: right;\n",
       "    }\n",
       "</style>\n",
       "<table border=\"1\" class=\"dataframe\">\n",
       "  <thead>\n",
       "    <tr style=\"text-align: right;\">\n",
       "      <th></th>\n",
       "      <th>count</th>\n",
       "      <th>unique</th>\n",
       "    </tr>\n",
       "  </thead>\n",
       "  <tbody>\n",
       "    <tr>\n",
       "      <th>foreign_worker_ownership_interest</th>\n",
       "      <td>88638</td>\n",
       "      <td>2</td>\n",
       "    </tr>\n",
       "    <tr>\n",
       "      <th>fw_ownership_interest</th>\n",
       "      <td>150445</td>\n",
       "      <td>2</td>\n",
       "    </tr>\n",
       "    <tr>\n",
       "      <th>ji_foreign_worker_live_on_premises</th>\n",
       "      <td>88637</td>\n",
       "      <td>2</td>\n",
       "    </tr>\n",
       "    <tr>\n",
       "      <th>ji_fw_live_on_premises</th>\n",
       "      <td>150446</td>\n",
       "      <td>2</td>\n",
       "    </tr>\n",
       "    <tr>\n",
       "      <th>ji_live_in_domestic_service</th>\n",
       "      <td>239080</td>\n",
       "      <td>2</td>\n",
       "    </tr>\n",
       "    <tr>\n",
       "      <th>ji_offered_to_sec_j_foreign_worker</th>\n",
       "      <td>88637</td>\n",
       "      <td>2</td>\n",
       "    </tr>\n",
       "    <tr>\n",
       "      <th>ji_offered_to_sec_j_fw</th>\n",
       "      <td>150446</td>\n",
       "      <td>2</td>\n",
       "    </tr>\n",
       "    <tr>\n",
       "      <th>job_info_alt_combo_ed_exp</th>\n",
       "      <td>239058</td>\n",
       "      <td>2</td>\n",
       "    </tr>\n",
       "    <tr>\n",
       "      <th>job_info_alt_field</th>\n",
       "      <td>239059</td>\n",
       "      <td>2</td>\n",
       "    </tr>\n",
       "    <tr>\n",
       "      <th>job_info_combo_occupation</th>\n",
       "      <td>239083</td>\n",
       "      <td>2</td>\n",
       "    </tr>\n",
       "    <tr>\n",
       "      <th>job_info_experience</th>\n",
       "      <td>239081</td>\n",
       "      <td>2</td>\n",
       "    </tr>\n",
       "    <tr>\n",
       "      <th>job_info_foreign_ed</th>\n",
       "      <td>238862</td>\n",
       "      <td>2</td>\n",
       "    </tr>\n",
       "    <tr>\n",
       "      <th>job_info_foreign_lang_req</th>\n",
       "      <td>239076</td>\n",
       "      <td>2</td>\n",
       "    </tr>\n",
       "    <tr>\n",
       "      <th>job_info_job_req_normal</th>\n",
       "      <td>239079</td>\n",
       "      <td>2</td>\n",
       "    </tr>\n",
       "    <tr>\n",
       "      <th>job_info_training</th>\n",
       "      <td>239078</td>\n",
       "      <td>2</td>\n",
       "    </tr>\n",
       "    <tr>\n",
       "      <th>preparer_info_emp_completed</th>\n",
       "      <td>239054</td>\n",
       "      <td>2</td>\n",
       "    </tr>\n",
       "    <tr>\n",
       "      <th>recr_info_coll_teach_comp_proc</th>\n",
       "      <td>7021</td>\n",
       "      <td>2</td>\n",
       "    </tr>\n",
       "    <tr>\n",
       "      <th>recr_info_coll_univ_teacher</th>\n",
       "      <td>239062</td>\n",
       "      <td>2</td>\n",
       "    </tr>\n",
       "    <tr>\n",
       "      <th>recr_info_employer_rec_payment</th>\n",
       "      <td>239073</td>\n",
       "      <td>2</td>\n",
       "    </tr>\n",
       "    <tr>\n",
       "      <th>recr_info_professional_occ</th>\n",
       "      <td>239076</td>\n",
       "      <td>2</td>\n",
       "    </tr>\n",
       "    <tr>\n",
       "      <th>recr_info_sunday_newspaper</th>\n",
       "      <td>233022</td>\n",
       "      <td>2</td>\n",
       "    </tr>\n",
       "    <tr>\n",
       "      <th>refile</th>\n",
       "      <td>118079</td>\n",
       "      <td>2</td>\n",
       "    </tr>\n",
       "    <tr>\n",
       "      <th>ri_2nd_ad_newspaper_or_journal</th>\n",
       "      <td>232914</td>\n",
       "      <td>2</td>\n",
       "    </tr>\n",
       "    <tr>\n",
       "      <th>ri_coll_tch_basic_process</th>\n",
       "      <td>7013</td>\n",
       "      <td>2</td>\n",
       "    </tr>\n",
       "    <tr>\n",
       "      <th>ri_layoff_in_past_six_months</th>\n",
       "      <td>239059</td>\n",
       "      <td>2</td>\n",
       "    </tr>\n",
       "  </tbody>\n",
       "</table>\n",
       "</div>"
      ],
      "text/plain": [
       "                                     count unique\n",
       "foreign_worker_ownership_interest    88638      2\n",
       "fw_ownership_interest               150445      2\n",
       "ji_foreign_worker_live_on_premises   88637      2\n",
       "ji_fw_live_on_premises              150446      2\n",
       "ji_live_in_domestic_service         239080      2\n",
       "ji_offered_to_sec_j_foreign_worker   88637      2\n",
       "ji_offered_to_sec_j_fw              150446      2\n",
       "job_info_alt_combo_ed_exp           239058      2\n",
       "job_info_alt_field                  239059      2\n",
       "job_info_combo_occupation           239083      2\n",
       "job_info_experience                 239081      2\n",
       "job_info_foreign_ed                 238862      2\n",
       "job_info_foreign_lang_req           239076      2\n",
       "job_info_job_req_normal             239079      2\n",
       "job_info_training                   239078      2\n",
       "preparer_info_emp_completed         239054      2\n",
       "recr_info_coll_teach_comp_proc        7021      2\n",
       "recr_info_coll_univ_teacher         239062      2\n",
       "recr_info_employer_rec_payment      239073      2\n",
       "recr_info_professional_occ          239076      2\n",
       "recr_info_sunday_newspaper          233022      2\n",
       "refile                              118079      2\n",
       "ri_2nd_ad_newspaper_or_journal      232914      2\n",
       "ri_coll_tch_basic_process             7013      2\n",
       "ri_layoff_in_past_six_months        239059      2"
      ]
     },
     "execution_count": 7,
     "metadata": {},
     "output_type": "execute_result"
    }
   ],
   "source": [
    "# descripción de los datos no numéricos \n",
    "resultadobin = datos.describe(include=[np.object])\n",
    "\n",
    "# Se hace una transpuesta de la descripción obtenida. \n",
    "# De la descripción sólo se toma las dos primeras filas \n",
    "# para toda la data obtenida\n",
    "transpuesta = resultadobin[:2].T\n",
    "\n",
    "# Para obtener las características binarias. \n",
    "# Se filtran aquellas características con sólo dos posibles valores. \n",
    "columnasbinarias = transpuesta[transpuesta.unique==2]\n",
    "columnasbinarias"
   ]
  },
  {
   "cell_type": "markdown",
   "metadata": {},
   "source": [
    "## Pre-Procesamiento de datos"
   ]
  },
  {
   "cell_type": "code",
   "execution_count": 8,
   "metadata": {},
   "outputs": [],
   "source": [
    "# Número de atributos o características y número de filas\n",
    "def getInfodata(data): \n",
    "    print(\"Número de atributos/columnas:\",len(datos.columns))\n",
    "    print(\"Número de filas:\",len(datos))"
   ]
  },
  {
   "cell_type": "code",
   "execution_count": 9,
   "metadata": {},
   "outputs": [],
   "source": [
    "# Porcentaje de valores faltantes por columna\n",
    "def getOmisionColumnas(data):\n",
    "    index=0\n",
    "    for column in data.columns:\n",
    "        index=index+1\n",
    "        print(index,\". El Attributo '\",column,\"' presenta \",  round(data[column].isnull().sum()*100/len(data),2), \"% de valores nulos\")"
   ]
  },
  {
   "cell_type": "code",
   "execution_count": 10,
   "metadata": {},
   "outputs": [
    {
     "name": "stdout",
     "output_type": "stream",
     "text": [
      "Número de atributos/columnas: 154\n",
      "Número de filas: 374362\n"
     ]
    }
   ],
   "source": [
    "getInfodata(datos)"
   ]
  },
  {
   "cell_type": "code",
   "execution_count": 11,
   "metadata": {},
   "outputs": [
    {
     "data": {
      "text/plain": [
       "object            142\n",
       "float64            10\n",
       "datetime64[ns]      2\n",
       "dtype: int64"
      ]
     },
     "execution_count": 11,
     "metadata": {},
     "output_type": "execute_result"
    }
   ],
   "source": [
    "# Tipos de datos existentes en las características\n",
    "datos.dtypes.value_counts()"
   ]
  },
  {
   "cell_type": "markdown",
   "metadata": {},
   "source": [
    "Todo el set de datos se compone de 374362 filas o registros de aplicaciones. Mientras que se cuentan con 154 atributos los cuales se dividen entre 142 valores categóricos, 10 numéricos y 2 de fechas"
   ]
  },
  {
   "cell_type": "markdown",
   "metadata": {},
   "source": [
    "# Limpieza de datos y Evaluación de posible data duplicada o separada"
   ]
  },
  {
   "cell_type": "code",
   "execution_count": 12,
   "metadata": {},
   "outputs": [
    {
     "name": "stdout",
     "output_type": "stream",
     "text": [
      "['add_these_pw_job_title_9089' 'agent_city' 'agent_firm_name'\n",
      " 'agent_state' 'application_type' 'case_no' 'case_number'\n",
      " 'case_received_date' 'case_status' 'class_of_admission'\n",
      " 'country_of_citizenship' 'country_of_citzenship' 'decision_date'\n",
      " 'employer_address_1' 'employer_address_2' 'employer_city'\n",
      " 'employer_country' 'employer_decl_info_title' 'employer_name'\n",
      " 'employer_num_employees' 'employer_phone' 'employer_phone_ext'\n",
      " 'employer_postal_code' 'employer_state' 'employer_yr_estab'\n",
      " 'foreign_worker_info_alt_edu_experience'\n",
      " 'foreign_worker_info_birth_country' 'foreign_worker_info_city'\n",
      " 'foreign_worker_info_education' 'foreign_worker_info_education_other'\n",
      " 'foreign_worker_info_inst' 'foreign_worker_info_major'\n",
      " 'foreign_worker_info_postal_code' 'foreign_worker_info_rel_occup_exp'\n",
      " 'foreign_worker_info_req_experience' 'foreign_worker_info_state'\n",
      " 'foreign_worker_info_training_comp' 'foreign_worker_ownership_interest'\n",
      " 'foreign_worker_yr_rel_edu_completed' 'fw_info_alt_edu_experience'\n",
      " 'fw_info_birth_country' 'fw_info_education_other' 'fw_info_postal_code'\n",
      " 'fw_info_rel_occup_exp' 'fw_info_req_experience' 'fw_info_training_comp'\n",
      " 'fw_info_yr_rel_edu_completed' 'fw_ownership_interest'\n",
      " 'ji_foreign_worker_live_on_premises' 'ji_fw_live_on_premises'\n",
      " 'ji_live_in_dom_svc_contract' 'ji_live_in_domestic_service'\n",
      " 'ji_offered_to_sec_j_foreign_worker' 'ji_offered_to_sec_j_fw'\n",
      " 'job_info_alt_cmb_ed_oth_yrs' 'job_info_alt_combo_ed'\n",
      " 'job_info_alt_combo_ed_exp' 'job_info_alt_combo_ed_other'\n",
      " 'job_info_alt_field' 'job_info_alt_field_name' 'job_info_alt_occ'\n",
      " 'job_info_alt_occ_job_title' 'job_info_alt_occ_num_months'\n",
      " 'job_info_combo_occupation' 'job_info_education'\n",
      " 'job_info_education_other' 'job_info_experience'\n",
      " 'job_info_experience_num_months' 'job_info_foreign_ed'\n",
      " 'job_info_foreign_lang_req' 'job_info_job_req_normal'\n",
      " 'job_info_job_title' 'job_info_major' 'job_info_training'\n",
      " 'job_info_training_field' 'job_info_training_num_months'\n",
      " 'job_info_work_city' 'job_info_work_postal_code' 'job_info_work_state'\n",
      " 'naics_2007_us_code' 'naics_2007_us_title' 'naics_code' 'naics_title'\n",
      " 'naics_us_code' 'naics_us_code_2007' 'naics_us_title'\n",
      " 'naics_us_title_2007' 'orig_case_no' 'orig_file_date'\n",
      " 'preparer_info_emp_completed' 'preparer_info_title' 'pw_amount_9089'\n",
      " 'pw_determ_date' 'pw_expire_date' 'pw_job_title_908' 'pw_job_title_9089'\n",
      " 'pw_level_9089' 'pw_soc_code' 'pw_soc_title' 'pw_source_name_9089'\n",
      " 'pw_source_name_other_9089' 'pw_track_num' 'pw_unit_of_pay_9089'\n",
      " 'rec_info_barg_rep_notified' 'recr_info_barg_rep_notified'\n",
      " 'recr_info_coll_teach_comp_proc' 'recr_info_coll_univ_teacher'\n",
      " 'recr_info_employer_rec_payment' 'recr_info_first_ad_start'\n",
      " 'recr_info_job_fair_from' 'recr_info_job_fair_to'\n",
      " 'recr_info_on_campus_recr_from' 'recr_info_on_campus_recr_to'\n",
      " 'recr_info_pro_org_advert_from' 'recr_info_pro_org_advert_to'\n",
      " 'recr_info_prof_org_advert_from' 'recr_info_prof_org_advert_to'\n",
      " 'recr_info_professional_occ' 'recr_info_radio_tv_ad_from'\n",
      " 'recr_info_radio_tv_ad_to' 'recr_info_second_ad_start'\n",
      " 'recr_info_sunday_newspaper' 'recr_info_swa_job_order_end'\n",
      " 'recr_info_swa_job_order_start' 'refile' 'ri_1st_ad_newspaper_name'\n",
      " 'ri_2nd_ad_newspaper_name' 'ri_2nd_ad_newspaper_or_journal'\n",
      " 'ri_campus_placement_from' 'ri_campus_placement_to'\n",
      " 'ri_coll_tch_basic_process' 'ri_coll_teach_pro_jnl'\n",
      " 'ri_coll_teach_select_date' 'ri_employee_referral_prog_from'\n",
      " 'ri_employee_referral_prog_to' 'ri_employer_web_post_from'\n",
      " 'ri_employer_web_post_to' 'ri_job_search_website_from'\n",
      " 'ri_job_search_website_to' 'ri_layoff_in_past_six_months'\n",
      " 'ri_local_ethnic_paper_from' 'ri_local_ethnic_paper_to'\n",
      " 'ri_posted_notice_at_worksite' 'ri_pvt_employment_firm_from'\n",
      " 'ri_pvt_employment_firm_to' 'ri_us_workers_considered'\n",
      " 'schd_a_sheepherder' 'us_economic_sector' 'wage_offer_from_9089'\n",
      " 'wage_offer_to_9089' 'wage_offer_unit_of_pay_9089'\n",
      " 'wage_offered_from_9089' 'wage_offered_to_9089'\n",
      " 'wage_offered_unit_of_pay_9089']\n"
     ]
    }
   ],
   "source": [
    "print(datos.columns.values)"
   ]
  },
  {
   "cell_type": "markdown",
   "metadata": {},
   "source": [
    "# 1. case_number y case_no\n",
    "donde la data que se encuentra en uno no se encuentra en la otra, con lo que serían complementarias"
   ]
  },
  {
   "cell_type": "code",
   "execution_count": 13,
   "metadata": {},
   "outputs": [],
   "source": [
    "data=pd.DataFrame()\n",
    "data['number']=datos['case_number']\n",
    "data['no']=datos['case_no']\n",
    "data['cantidad'] = data.apply(lambda x: x.count(), axis=1)"
   ]
  },
  {
   "cell_type": "code",
   "execution_count": 14,
   "metadata": {},
   "outputs": [
    {
     "name": "stdout",
     "output_type": "stream",
     "text": [
      "Total de registros:  374362\n"
     ]
    },
    {
     "data": {
      "text/plain": [
       "number      239093\n",
       "no          135269\n",
       "cantidad    374362\n",
       "dtype: int64"
      ]
     },
     "execution_count": 14,
     "metadata": {},
     "output_type": "execute_result"
    }
   ],
   "source": [
    "print('Total de registros: ',len(data))\n",
    "data.loc[data['cantidad'] ==1].count()"
   ]
  },
  {
   "cell_type": "markdown",
   "metadata": {},
   "source": [
    "Se procederá a eliminar la data de ambas columnas y crear una nueva en función a la data de estos dos campos"
   ]
  },
  {
   "cell_type": "code",
   "execution_count": 15,
   "metadata": {},
   "outputs": [],
   "source": [
    "datos['case_number_new']=datos['case_number']\n",
    "datos['case_number_new']\n",
    "mask = datos['case_number_new'].isnull()\n",
    "column_name = 'case_number_new'\n",
    "datos.loc[mask, column_name] = datos['case_no']"
   ]
  },
  {
   "cell_type": "code",
   "execution_count": 16,
   "metadata": {
    "scrolled": true
   },
   "outputs": [
    {
     "name": "stdout",
     "output_type": "stream",
     "text": [
      "Número de atributos/columnas: 153\n",
      "Número de filas: 374362\n"
     ]
    }
   ],
   "source": [
    "datos.drop(['case_number','case_no'], axis=1,inplace=True)\n",
    "getInfodata(datos)"
   ]
  },
  {
   "cell_type": "markdown",
   "metadata": {},
   "source": [
    "# 2. case_status\n",
    "Dentro del modelo se identifican 4 tipos de case_status. Para el presente experimento, se tomarán solo los casos con status Certified y Denied. Para los casos de Withdran, estos no serán considerados, por lo cual serán retirados del dataset. Para los casos de Certified-Expired, debido a la información revisada, esots corresponden a casos que una vez obtevieron el estado Certified, debieron presentar el formulario I-140 en los siguientes 6 meses. Pasado este tiempo, se procede al cambio del estado. En ese sentido, este grupo será considerado como Certified."
   ]
  },
  {
   "cell_type": "code",
   "execution_count": 17,
   "metadata": {},
   "outputs": [
    {
     "data": {
      "text/plain": [
       "Certified            181933\n",
       "Certified-Expired    148586\n",
       "Denied                25649\n",
       "Withdrawn             18194\n",
       "Name: case_status, dtype: int64"
      ]
     },
     "execution_count": 17,
     "metadata": {},
     "output_type": "execute_result"
    }
   ],
   "source": [
    "datos.case_status.value_counts()"
   ]
  },
  {
   "cell_type": "code",
   "execution_count": 18,
   "metadata": {},
   "outputs": [
    {
     "data": {
      "text/plain": [
       "Certified            181933\n",
       "Certified-Expired    148586\n",
       "Denied                25649\n",
       "Name: case_status, dtype: int64"
      ]
     },
     "execution_count": 18,
     "metadata": {},
     "output_type": "execute_result"
    }
   ],
   "source": [
    "datos = datos[datos.case_status != 'Withdrawn']\n",
    "datos.case_status.value_counts()"
   ]
  },
  {
   "cell_type": "code",
   "execution_count": 19,
   "metadata": {},
   "outputs": [
    {
     "data": {
      "text/plain": [
       "Certified    330519\n",
       "Denied        25649\n",
       "Name: case_status, dtype: int64"
      ]
     },
     "execution_count": 19,
     "metadata": {},
     "output_type": "execute_result"
    }
   ],
   "source": [
    "datos.loc[datos['case_status'] == 'Certified-Expired', 'case_status'] = 'Certified'\n",
    "datos.case_status.value_counts()"
   ]
  },
  {
   "cell_type": "markdown",
   "metadata": {},
   "source": [
    "# 3. filas y columnas nulas\n",
    "donde la data que se encuentra en uno no se encuentra en la otra, con lo que serían complementarias"
   ]
  },
  {
   "cell_type": "code",
   "execution_count": 20,
   "metadata": {},
   "outputs": [
    {
     "name": "stdout",
     "output_type": "stream",
     "text": [
      "Datos iniciales:\n",
      "\n",
      "Número de atributos/columnas: 153\n",
      "Número de filas: 356168\n",
      "\n",
      "Datos finales:\n",
      "\n",
      "Número de atributos/columnas: 153\n",
      "Número de filas: 356168\n"
     ]
    }
   ],
   "source": [
    "print(\"Datos iniciales:\\n\")\n",
    "getInfodata(datos)\n",
    "datos = datos.dropna(axis=0, how='all');\n",
    "datos = datos.dropna(axis=1, how='all');\n",
    "print(\"\\nDatos finales:\\n\")\n",
    "getInfodata(datos)"
   ]
  },
  {
   "cell_type": "markdown",
   "metadata": {},
   "source": [
    "No existen filas ni columnas con todos los valores nulos"
   ]
  },
  {
   "cell_type": "markdown",
   "metadata": {},
   "source": [
    "# 4. columnas con más del 85% de omisiones\n",
    "Se define como porcentaje mínimo para considerar un atributo que tenga al menos el 85% de sus filas con información"
   ]
  },
  {
   "cell_type": "code",
   "execution_count": 21,
   "metadata": {},
   "outputs": [
    {
     "name": "stdout",
     "output_type": "stream",
     "text": [
      "1 . El Attributo ' add_these_pw_job_title_9089 ' presenta  89.01 % de valores nulos\n",
      "2 . El Attributo ' agent_city ' presenta  43.08 % de valores nulos\n",
      "3 . El Attributo ' agent_firm_name ' presenta  44.26 % de valores nulos\n",
      "4 . El Attributo ' agent_state ' presenta  43.95 % de valores nulos\n",
      "5 . El Attributo ' application_type ' presenta  64.39 % de valores nulos\n",
      "6 . El Attributo ' case_received_date ' presenta  35.61 % de valores nulos\n",
      "7 . El Attributo ' case_status ' presenta  0.0 % de valores nulos\n",
      "8 . El Attributo ' class_of_admission ' presenta  5.92 % de valores nulos\n",
      "9 . El Attributo ' country_of_citizenship ' presenta  5.41 % de valores nulos\n",
      "10 . El Attributo ' country_of_citzenship ' presenta  94.6 % de valores nulos\n",
      "11 . El Attributo ' decision_date ' presenta  0.0 % de valores nulos\n",
      "12 . El Attributo ' employer_address_1 ' presenta  0.01 % de valores nulos\n",
      "13 . El Attributo ' employer_address_2 ' presenta  39.6 % de valores nulos\n",
      "14 . El Attributo ' employer_city ' presenta  0.0 % de valores nulos\n",
      "15 . El Attributo ' employer_country ' presenta  35.63 % de valores nulos\n",
      "16 . El Attributo ' employer_decl_info_title ' presenta  35.63 % de valores nulos\n",
      "17 . El Attributo ' employer_name ' presenta  0.0 % de valores nulos\n",
      "18 . El Attributo ' employer_num_employees ' presenta  35.64 % de valores nulos\n",
      "19 . El Attributo ' employer_phone ' presenta  35.62 % de valores nulos\n",
      "20 . El Attributo ' employer_phone_ext ' presenta  93.68 % de valores nulos\n",
      "21 . El Attributo ' employer_postal_code ' presenta  0.01 % de valores nulos\n",
      "22 . El Attributo ' employer_state ' presenta  0.01 % de valores nulos\n",
      "23 . El Attributo ' employer_yr_estab ' presenta  35.65 % de valores nulos\n",
      "24 . El Attributo ' foreign_worker_info_alt_edu_experience ' presenta  76.34 % de valores nulos\n",
      "25 . El Attributo ' foreign_worker_info_birth_country ' presenta  76.33 % de valores nulos\n",
      "26 . El Attributo ' foreign_worker_info_city ' presenta  35.62 % de valores nulos\n",
      "27 . El Attributo ' foreign_worker_info_education ' presenta  35.63 % de valores nulos\n",
      "28 . El Attributo ' foreign_worker_info_education_other ' presenta  98.95 % de valores nulos\n",
      "29 . El Attributo ' foreign_worker_info_inst ' presenta  40.4 % de valores nulos\n",
      "30 . El Attributo ' foreign_worker_info_major ' presenta  40.65 % de valores nulos\n",
      "31 . El Attributo ' foreign_worker_info_postal_code ' presenta  77.05 % de valores nulos\n",
      "32 . El Attributo ' foreign_worker_info_rel_occup_exp ' presenta  76.33 % de valores nulos\n",
      "33 . El Attributo ' foreign_worker_info_req_experience ' presenta  76.33 % de valores nulos\n",
      "34 . El Attributo ' foreign_worker_info_state ' presenta  39.99 % de valores nulos\n",
      "35 . El Attributo ' foreign_worker_info_training_comp ' presenta  76.33 % de valores nulos\n",
      "36 . El Attributo ' foreign_worker_ownership_interest ' presenta  76.33 % de valores nulos\n",
      "37 . El Attributo ' foreign_worker_yr_rel_edu_completed ' presenta  77.7 % de valores nulos\n",
      "38 . El Attributo ' fw_info_alt_edu_experience ' presenta  59.28 % de valores nulos\n",
      "39 . El Attributo ' fw_info_birth_country ' presenta  59.29 % de valores nulos\n",
      "40 . El Attributo ' fw_info_education_other ' presenta  59.4 % de valores nulos\n",
      "41 . El Attributo ' fw_info_postal_code ' presenta  59.88 % de valores nulos\n",
      "42 . El Attributo ' fw_info_rel_occup_exp ' presenta  59.29 % de valores nulos\n",
      "43 . El Attributo ' fw_info_req_experience ' presenta  59.28 % de valores nulos\n",
      "44 . El Attributo ' fw_info_training_comp ' presenta  59.29 % de valores nulos\n",
      "45 . El Attributo ' fw_info_yr_rel_edu_completed ' presenta  62.65 % de valores nulos\n",
      "46 . El Attributo ' fw_ownership_interest ' presenta  59.28 % de valores nulos\n",
      "47 . El Attributo ' ji_foreign_worker_live_on_premises ' presenta  76.33 % de valores nulos\n",
      "48 . El Attributo ' ji_fw_live_on_premises ' presenta  59.28 % de valores nulos\n",
      "49 . El Attributo ' ji_live_in_dom_svc_contract ' presenta  99.35 % de valores nulos\n",
      "50 . El Attributo ' ji_live_in_domestic_service ' presenta  35.62 % de valores nulos\n",
      "51 . El Attributo ' ji_offered_to_sec_j_foreign_worker ' presenta  76.33 % de valores nulos\n",
      "52 . El Attributo ' ji_offered_to_sec_j_fw ' presenta  59.28 % de valores nulos\n",
      "53 . El Attributo ' job_info_alt_cmb_ed_oth_yrs ' presenta  80.93 % de valores nulos\n",
      "54 . El Attributo ' job_info_alt_combo_ed ' presenta  80.84 % de valores nulos\n",
      "55 . El Attributo ' job_info_alt_combo_ed_exp ' presenta  35.62 % de valores nulos\n",
      "56 . El Attributo ' job_info_alt_combo_ed_other ' presenta  97.48 % de valores nulos\n",
      "57 . El Attributo ' job_info_alt_field ' presenta  35.62 % de valores nulos\n",
      "58 . El Attributo ' job_info_alt_field_name ' presenta  74.66 % de valores nulos\n",
      "59 . El Attributo ' job_info_alt_occ ' presenta  59.85 % de valores nulos\n",
      "60 . El Attributo ' job_info_alt_occ_job_title ' presenta  60.04 % de valores nulos\n",
      "61 . El Attributo ' job_info_alt_occ_num_months ' presenta  60.1 % de valores nulos\n",
      "62 . El Attributo ' job_info_combo_occupation ' presenta  35.62 % de valores nulos\n",
      "63 . El Attributo ' job_info_education ' presenta  35.62 % de valores nulos\n",
      "64 . El Attributo ' job_info_education_other ' presenta  97.91 % de valores nulos\n",
      "65 . El Attributo ' job_info_experience ' presenta  35.62 % de valores nulos\n",
      "66 . El Attributo ' job_info_experience_num_months ' presenta  63.8 % de valores nulos\n",
      "67 . El Attributo ' job_info_foreign_ed ' presenta  35.68 % de valores nulos\n",
      "68 . El Attributo ' job_info_foreign_lang_req ' presenta  35.62 % de valores nulos\n",
      "69 . El Attributo ' job_info_job_req_normal ' presenta  35.62 % de valores nulos\n",
      "70 . El Attributo ' job_info_job_title ' presenta  35.63 % de valores nulos\n",
      "71 . El Attributo ' job_info_major ' presenta  42.42 % de valores nulos\n",
      "72 . El Attributo ' job_info_training ' presenta  35.62 % de valores nulos\n",
      "73 . El Attributo ' job_info_training_field ' presenta  98.8 % de valores nulos\n",
      "74 . El Attributo ' job_info_training_num_months ' presenta  98.72 % de valores nulos\n",
      "75 . El Attributo ' job_info_work_city ' presenta  0.03 % de valores nulos\n",
      "76 . El Attributo ' job_info_work_postal_code ' presenta  35.64 % de valores nulos\n",
      "77 . El Attributo ' job_info_work_state ' presenta  0.03 % de valores nulos\n",
      "78 . El Attributo ' naics_2007_us_code ' presenta  94.62 % de valores nulos\n",
      "79 . El Attributo ' naics_2007_us_title ' presenta  94.79 % de valores nulos\n",
      "80 . El Attributo ' naics_code ' presenta  76.39 % de valores nulos\n",
      "81 . El Attributo ' naics_title ' presenta  76.39 % de valores nulos\n",
      "82 . El Attributo ' naics_us_code ' presenta  59.37 % de valores nulos\n",
      "83 . El Attributo ' naics_us_code_2007 ' presenta  69.89 % de valores nulos\n",
      "84 . El Attributo ' naics_us_title ' presenta  59.37 % de valores nulos\n",
      "85 . El Attributo ' naics_us_title_2007 ' presenta  70.72 % de valores nulos\n",
      "86 . El Attributo ' orig_case_no ' presenta  99.92 % de valores nulos\n",
      "87 . El Attributo ' orig_file_date ' presenta  99.93 % de valores nulos\n",
      "88 . El Attributo ' preparer_info_emp_completed ' presenta  35.63 % de valores nulos\n",
      "89 . El Attributo ' preparer_info_title ' presenta  43.41 % de valores nulos\n",
      "90 . El Attributo ' pw_amount_9089 ' presenta  0.62 % de valores nulos\n",
      "91 . El Attributo ' pw_determ_date ' presenta  35.7 % de valores nulos\n",
      "92 . El Attributo ' pw_expire_date ' presenta  35.72 % de valores nulos\n",
      "93 . El Attributo ' pw_job_title_908 ' presenta  59.3 % de valores nulos\n",
      "94 . El Attributo ' pw_job_title_9089 ' presenta  40.8 % de valores nulos\n",
      "95 . El Attributo ' pw_level_9089 ' presenta  7.46 % de valores nulos\n",
      "96 . El Attributo ' pw_soc_code ' presenta  0.11 % de valores nulos\n",
      "97 . El Attributo ' pw_soc_title ' presenta  0.65 % de valores nulos\n",
      "98 . El Attributo ' pw_source_name_9089 ' presenta  0.59 % de valores nulos\n",
      "99 . El Attributo ' pw_source_name_other_9089 ' presenta  95.72 % de valores nulos\n",
      "100 . El Attributo ' pw_track_num ' presenta  36.13 % de valores nulos\n",
      "101 . El Attributo ' pw_unit_of_pay_9089 ' presenta  0.42 % de valores nulos\n",
      "102 . El Attributo ' rec_info_barg_rep_notified ' presenta  76.35 % de valores nulos\n",
      "103 . El Attributo ' recr_info_barg_rep_notified ' presenta  59.29 % de valores nulos\n",
      "104 . El Attributo ' recr_info_coll_teach_comp_proc ' presenta  98.09 % de valores nulos\n"
     ]
    },
    {
     "name": "stdout",
     "output_type": "stream",
     "text": [
      "105 . El Attributo ' recr_info_coll_univ_teacher ' presenta  35.62 % de valores nulos\n",
      "106 . El Attributo ' recr_info_employer_rec_payment ' presenta  35.62 % de valores nulos\n",
      "107 . El Attributo ' recr_info_first_ad_start ' presenta  37.29 % de valores nulos\n",
      "108 . El Attributo ' recr_info_job_fair_from ' presenta  99.52 % de valores nulos\n",
      "109 . El Attributo ' recr_info_job_fair_to ' presenta  99.52 % de valores nulos\n",
      "110 . El Attributo ' recr_info_on_campus_recr_from ' presenta  99.5 % de valores nulos\n",
      "111 . El Attributo ' recr_info_on_campus_recr_to ' presenta  99.51 % de valores nulos\n",
      "112 . El Attributo ' recr_info_pro_org_advert_from ' presenta  96.27 % de valores nulos\n",
      "113 . El Attributo ' recr_info_pro_org_advert_to ' presenta  96.27 % de valores nulos\n",
      "114 . El Attributo ' recr_info_prof_org_advert_from ' presenta  92.31 % de valores nulos\n",
      "115 . El Attributo ' recr_info_prof_org_advert_to ' presenta  92.31 % de valores nulos\n",
      "116 . El Attributo ' recr_info_professional_occ ' presenta  35.62 % de valores nulos\n",
      "117 . El Attributo ' recr_info_radio_tv_ad_from ' presenta  94.52 % de valores nulos\n",
      "118 . El Attributo ' recr_info_radio_tv_ad_to ' presenta  94.52 % de valores nulos\n",
      "119 . El Attributo ' recr_info_second_ad_start ' presenta  37.3 % de valores nulos\n",
      "120 . El Attributo ' recr_info_sunday_newspaper ' presenta  37.26 % de valores nulos\n",
      "121 . El Attributo ' recr_info_swa_job_order_end ' presenta  37.3 % de valores nulos\n",
      "122 . El Attributo ' recr_info_swa_job_order_start ' presenta  37.29 % de valores nulos\n",
      "123 . El Attributo ' refile ' presenta  69.59 % de valores nulos\n",
      "124 . El Attributo ' ri_1st_ad_newspaper_name ' presenta  36.25 % de valores nulos\n",
      "125 . El Attributo ' ri_2nd_ad_newspaper_name ' presenta  36.26 % de valores nulos\n",
      "126 . El Attributo ' ri_2nd_ad_newspaper_or_journal ' presenta  37.29 % de valores nulos\n",
      "127 . El Attributo ' ri_campus_placement_from ' presenta  91.92 % de valores nulos\n",
      "128 . El Attributo ' ri_campus_placement_to ' presenta  91.92 % de valores nulos\n",
      "129 . El Attributo ' ri_coll_tch_basic_process ' presenta  98.09 % de valores nulos\n",
      "130 . El Attributo ' ri_coll_teach_pro_jnl ' presenta  58.71 % de valores nulos\n",
      "131 . El Attributo ' ri_coll_teach_select_date ' presenta  98.44 % de valores nulos\n",
      "132 . El Attributo ' ri_employee_referral_prog_from ' presenta  81.38 % de valores nulos\n",
      "133 . El Attributo ' ri_employee_referral_prog_to ' presenta  81.38 % de valores nulos\n",
      "134 . El Attributo ' ri_employer_web_post_from ' presenta  62.97 % de valores nulos\n",
      "135 . El Attributo ' ri_employer_web_post_to ' presenta  62.98 % de valores nulos\n",
      "136 . El Attributo ' ri_job_search_website_from ' presenta  46.71 % de valores nulos\n",
      "137 . El Attributo ' ri_job_search_website_to ' presenta  46.72 % de valores nulos\n",
      "138 . El Attributo ' ri_layoff_in_past_six_months ' presenta  35.62 % de valores nulos\n",
      "139 . El Attributo ' ri_local_ethnic_paper_from ' presenta  67.34 % de valores nulos\n",
      "140 . El Attributo ' ri_local_ethnic_paper_to ' presenta  67.34 % de valores nulos\n",
      "141 . El Attributo ' ri_posted_notice_at_worksite ' presenta  35.64 % de valores nulos\n",
      "142 . El Attributo ' ri_pvt_employment_firm_from ' presenta  95.47 % de valores nulos\n",
      "143 . El Attributo ' ri_pvt_employment_firm_to ' presenta  95.48 % de valores nulos\n",
      "144 . El Attributo ' ri_us_workers_considered ' presenta  95.35 % de valores nulos\n",
      "145 . El Attributo ' schd_a_sheepherder ' presenta  35.62 % de valores nulos\n",
      "146 . El Attributo ' us_economic_sector ' presenta  66.06 % de valores nulos\n",
      "147 . El Attributo ' wage_offer_from_9089 ' presenta  30.24 % de valores nulos\n",
      "148 . El Attributo ' wage_offer_to_9089 ' presenta  80.13 % de valores nulos\n",
      "149 . El Attributo ' wage_offer_unit_of_pay_9089 ' presenta  30.54 % de valores nulos\n",
      "150 . El Attributo ' wage_offered_from_9089 ' presenta  69.79 % de valores nulos\n",
      "151 . El Attributo ' wage_offered_to_9089 ' presenta  91.77 % de valores nulos\n",
      "152 . El Attributo ' wage_offered_unit_of_pay_9089 ' presenta  81.27 % de valores nulos\n",
      "153 . El Attributo ' case_number_new ' presenta  0.0 % de valores nulos\n"
     ]
    }
   ],
   "source": [
    "# Porcentaje de omisiones de cada columna\n",
    "getOmisionColumnas(datos)"
   ]
  },
  {
   "cell_type": "code",
   "execution_count": 22,
   "metadata": {},
   "outputs": [
    {
     "data": {
      "text/plain": [
       "(356168, 120)"
      ]
     },
     "execution_count": 22,
     "metadata": {},
     "output_type": "execute_result"
    }
   ],
   "source": [
    "# Vamos a filtrar solo aquellas columnas que tienen al menos un 85% de valores no perdidos\n",
    "numPermitido = len(datos)*0.85\n",
    "datos = datos.loc[:, datos.isnull().sum() <= numPermitido]\n",
    "datos.shape"
   ]
  },
  {
   "cell_type": "code",
   "execution_count": 23,
   "metadata": {},
   "outputs": [
    {
     "name": "stdout",
     "output_type": "stream",
     "text": [
      "1 . El Attributo ' agent_city ' presenta  43.08 % de valores nulos\n",
      "2 . El Attributo ' agent_firm_name ' presenta  44.26 % de valores nulos\n",
      "3 . El Attributo ' agent_state ' presenta  43.95 % de valores nulos\n",
      "4 . El Attributo ' application_type ' presenta  64.39 % de valores nulos\n",
      "5 . El Attributo ' case_received_date ' presenta  35.61 % de valores nulos\n",
      "6 . El Attributo ' case_status ' presenta  0.0 % de valores nulos\n",
      "7 . El Attributo ' class_of_admission ' presenta  5.92 % de valores nulos\n",
      "8 . El Attributo ' country_of_citizenship ' presenta  5.41 % de valores nulos\n",
      "9 . El Attributo ' decision_date ' presenta  0.0 % de valores nulos\n",
      "10 . El Attributo ' employer_address_1 ' presenta  0.01 % de valores nulos\n",
      "11 . El Attributo ' employer_address_2 ' presenta  39.6 % de valores nulos\n",
      "12 . El Attributo ' employer_city ' presenta  0.0 % de valores nulos\n",
      "13 . El Attributo ' employer_country ' presenta  35.63 % de valores nulos\n",
      "14 . El Attributo ' employer_decl_info_title ' presenta  35.63 % de valores nulos\n",
      "15 . El Attributo ' employer_name ' presenta  0.0 % de valores nulos\n",
      "16 . El Attributo ' employer_num_employees ' presenta  35.64 % de valores nulos\n",
      "17 . El Attributo ' employer_phone ' presenta  35.62 % de valores nulos\n",
      "18 . El Attributo ' employer_postal_code ' presenta  0.01 % de valores nulos\n",
      "19 . El Attributo ' employer_state ' presenta  0.01 % de valores nulos\n",
      "20 . El Attributo ' employer_yr_estab ' presenta  35.65 % de valores nulos\n",
      "21 . El Attributo ' foreign_worker_info_alt_edu_experience ' presenta  76.34 % de valores nulos\n",
      "22 . El Attributo ' foreign_worker_info_birth_country ' presenta  76.33 % de valores nulos\n",
      "23 . El Attributo ' foreign_worker_info_city ' presenta  35.62 % de valores nulos\n",
      "24 . El Attributo ' foreign_worker_info_education ' presenta  35.63 % de valores nulos\n",
      "25 . El Attributo ' foreign_worker_info_inst ' presenta  40.4 % de valores nulos\n",
      "26 . El Attributo ' foreign_worker_info_major ' presenta  40.65 % de valores nulos\n",
      "27 . El Attributo ' foreign_worker_info_postal_code ' presenta  77.05 % de valores nulos\n",
      "28 . El Attributo ' foreign_worker_info_rel_occup_exp ' presenta  76.33 % de valores nulos\n",
      "29 . El Attributo ' foreign_worker_info_req_experience ' presenta  76.33 % de valores nulos\n",
      "30 . El Attributo ' foreign_worker_info_state ' presenta  39.99 % de valores nulos\n",
      "31 . El Attributo ' foreign_worker_info_training_comp ' presenta  76.33 % de valores nulos\n",
      "32 . El Attributo ' foreign_worker_ownership_interest ' presenta  76.33 % de valores nulos\n",
      "33 . El Attributo ' foreign_worker_yr_rel_edu_completed ' presenta  77.7 % de valores nulos\n",
      "34 . El Attributo ' fw_info_alt_edu_experience ' presenta  59.28 % de valores nulos\n",
      "35 . El Attributo ' fw_info_birth_country ' presenta  59.29 % de valores nulos\n",
      "36 . El Attributo ' fw_info_education_other ' presenta  59.4 % de valores nulos\n",
      "37 . El Attributo ' fw_info_postal_code ' presenta  59.88 % de valores nulos\n",
      "38 . El Attributo ' fw_info_rel_occup_exp ' presenta  59.29 % de valores nulos\n",
      "39 . El Attributo ' fw_info_req_experience ' presenta  59.28 % de valores nulos\n",
      "40 . El Attributo ' fw_info_training_comp ' presenta  59.29 % de valores nulos\n",
      "41 . El Attributo ' fw_info_yr_rel_edu_completed ' presenta  62.65 % de valores nulos\n",
      "42 . El Attributo ' fw_ownership_interest ' presenta  59.28 % de valores nulos\n",
      "43 . El Attributo ' ji_foreign_worker_live_on_premises ' presenta  76.33 % de valores nulos\n",
      "44 . El Attributo ' ji_fw_live_on_premises ' presenta  59.28 % de valores nulos\n",
      "45 . El Attributo ' ji_live_in_domestic_service ' presenta  35.62 % de valores nulos\n",
      "46 . El Attributo ' ji_offered_to_sec_j_foreign_worker ' presenta  76.33 % de valores nulos\n",
      "47 . El Attributo ' ji_offered_to_sec_j_fw ' presenta  59.28 % de valores nulos\n",
      "48 . El Attributo ' job_info_alt_cmb_ed_oth_yrs ' presenta  80.93 % de valores nulos\n",
      "49 . El Attributo ' job_info_alt_combo_ed ' presenta  80.84 % de valores nulos\n",
      "50 . El Attributo ' job_info_alt_combo_ed_exp ' presenta  35.62 % de valores nulos\n",
      "51 . El Attributo ' job_info_alt_field ' presenta  35.62 % de valores nulos\n",
      "52 . El Attributo ' job_info_alt_field_name ' presenta  74.66 % de valores nulos\n",
      "53 . El Attributo ' job_info_alt_occ ' presenta  59.85 % de valores nulos\n",
      "54 . El Attributo ' job_info_alt_occ_job_title ' presenta  60.04 % de valores nulos\n",
      "55 . El Attributo ' job_info_alt_occ_num_months ' presenta  60.1 % de valores nulos\n",
      "56 . El Attributo ' job_info_combo_occupation ' presenta  35.62 % de valores nulos\n",
      "57 . El Attributo ' job_info_education ' presenta  35.62 % de valores nulos\n",
      "58 . El Attributo ' job_info_experience ' presenta  35.62 % de valores nulos\n",
      "59 . El Attributo ' job_info_experience_num_months ' presenta  63.8 % de valores nulos\n",
      "60 . El Attributo ' job_info_foreign_ed ' presenta  35.68 % de valores nulos\n",
      "61 . El Attributo ' job_info_foreign_lang_req ' presenta  35.62 % de valores nulos\n",
      "62 . El Attributo ' job_info_job_req_normal ' presenta  35.62 % de valores nulos\n",
      "63 . El Attributo ' job_info_job_title ' presenta  35.63 % de valores nulos\n",
      "64 . El Attributo ' job_info_major ' presenta  42.42 % de valores nulos\n",
      "65 . El Attributo ' job_info_training ' presenta  35.62 % de valores nulos\n",
      "66 . El Attributo ' job_info_work_city ' presenta  0.03 % de valores nulos\n",
      "67 . El Attributo ' job_info_work_postal_code ' presenta  35.64 % de valores nulos\n",
      "68 . El Attributo ' job_info_work_state ' presenta  0.03 % de valores nulos\n",
      "69 . El Attributo ' naics_code ' presenta  76.39 % de valores nulos\n",
      "70 . El Attributo ' naics_title ' presenta  76.39 % de valores nulos\n",
      "71 . El Attributo ' naics_us_code ' presenta  59.37 % de valores nulos\n",
      "72 . El Attributo ' naics_us_code_2007 ' presenta  69.89 % de valores nulos\n",
      "73 . El Attributo ' naics_us_title ' presenta  59.37 % de valores nulos\n",
      "74 . El Attributo ' naics_us_title_2007 ' presenta  70.72 % de valores nulos\n",
      "75 . El Attributo ' preparer_info_emp_completed ' presenta  35.63 % de valores nulos\n",
      "76 . El Attributo ' preparer_info_title ' presenta  43.41 % de valores nulos\n",
      "77 . El Attributo ' pw_amount_9089 ' presenta  0.62 % de valores nulos\n",
      "78 . El Attributo ' pw_determ_date ' presenta  35.7 % de valores nulos\n",
      "79 . El Attributo ' pw_expire_date ' presenta  35.72 % de valores nulos\n",
      "80 . El Attributo ' pw_job_title_908 ' presenta  59.3 % de valores nulos\n",
      "81 . El Attributo ' pw_job_title_9089 ' presenta  40.8 % de valores nulos\n",
      "82 . El Attributo ' pw_level_9089 ' presenta  7.46 % de valores nulos\n",
      "83 . El Attributo ' pw_soc_code ' presenta  0.11 % de valores nulos\n",
      "84 . El Attributo ' pw_soc_title ' presenta  0.65 % de valores nulos\n",
      "85 . El Attributo ' pw_source_name_9089 ' presenta  0.59 % de valores nulos\n",
      "86 . El Attributo ' pw_track_num ' presenta  36.13 % de valores nulos\n",
      "87 . El Attributo ' pw_unit_of_pay_9089 ' presenta  0.42 % de valores nulos\n",
      "88 . El Attributo ' rec_info_barg_rep_notified ' presenta  76.35 % de valores nulos\n",
      "89 . El Attributo ' recr_info_barg_rep_notified ' presenta  59.29 % de valores nulos\n",
      "90 . El Attributo ' recr_info_coll_univ_teacher ' presenta  35.62 % de valores nulos\n",
      "91 . El Attributo ' recr_info_employer_rec_payment ' presenta  35.62 % de valores nulos\n",
      "92 . El Attributo ' recr_info_first_ad_start ' presenta  37.29 % de valores nulos\n",
      "93 . El Attributo ' recr_info_professional_occ ' presenta  35.62 % de valores nulos\n",
      "94 . El Attributo ' recr_info_second_ad_start ' presenta  37.3 % de valores nulos\n",
      "95 . El Attributo ' recr_info_sunday_newspaper ' presenta  37.26 % de valores nulos\n",
      "96 . El Attributo ' recr_info_swa_job_order_end ' presenta  37.3 % de valores nulos\n",
      "97 . El Attributo ' recr_info_swa_job_order_start ' presenta  37.29 % de valores nulos\n",
      "98 . El Attributo ' refile ' presenta  69.59 % de valores nulos\n",
      "99 . El Attributo ' ri_1st_ad_newspaper_name ' presenta  36.25 % de valores nulos\n",
      "100 . El Attributo ' ri_2nd_ad_newspaper_name ' presenta  36.26 % de valores nulos\n",
      "101 . El Attributo ' ri_2nd_ad_newspaper_or_journal ' presenta  37.29 % de valores nulos\n",
      "102 . El Attributo ' ri_coll_teach_pro_jnl ' presenta  58.71 % de valores nulos\n",
      "103 . El Attributo ' ri_employee_referral_prog_from ' presenta  81.38 % de valores nulos\n",
      "104 . El Attributo ' ri_employee_referral_prog_to ' presenta  81.38 % de valores nulos\n",
      "105 . El Attributo ' ri_employer_web_post_from ' presenta  62.97 % de valores nulos\n"
     ]
    },
    {
     "name": "stdout",
     "output_type": "stream",
     "text": [
      "106 . El Attributo ' ri_employer_web_post_to ' presenta  62.98 % de valores nulos\n",
      "107 . El Attributo ' ri_job_search_website_from ' presenta  46.71 % de valores nulos\n",
      "108 . El Attributo ' ri_job_search_website_to ' presenta  46.72 % de valores nulos\n",
      "109 . El Attributo ' ri_layoff_in_past_six_months ' presenta  35.62 % de valores nulos\n",
      "110 . El Attributo ' ri_local_ethnic_paper_from ' presenta  67.34 % de valores nulos\n",
      "111 . El Attributo ' ri_local_ethnic_paper_to ' presenta  67.34 % de valores nulos\n",
      "112 . El Attributo ' ri_posted_notice_at_worksite ' presenta  35.64 % de valores nulos\n",
      "113 . El Attributo ' schd_a_sheepherder ' presenta  35.62 % de valores nulos\n",
      "114 . El Attributo ' us_economic_sector ' presenta  66.06 % de valores nulos\n",
      "115 . El Attributo ' wage_offer_from_9089 ' presenta  30.24 % de valores nulos\n",
      "116 . El Attributo ' wage_offer_to_9089 ' presenta  80.13 % de valores nulos\n",
      "117 . El Attributo ' wage_offer_unit_of_pay_9089 ' presenta  30.54 % de valores nulos\n",
      "118 . El Attributo ' wage_offered_from_9089 ' presenta  69.79 % de valores nulos\n",
      "119 . El Attributo ' wage_offered_unit_of_pay_9089 ' presenta  81.27 % de valores nulos\n",
      "120 . El Attributo ' case_number_new ' presenta  0.0 % de valores nulos\n"
     ]
    }
   ],
   "source": [
    "getOmisionColumnas(datos)"
   ]
  },
  {
   "cell_type": "markdown",
   "metadata": {},
   "source": [
    "# 5. columnas derivadas\n",
    "En función a la información brindada, se generarán nuevas columnas y se estandarizarán las que correspondan"
   ]
  },
  {
   "cell_type": "code",
   "execution_count": 24,
   "metadata": {},
   "outputs": [],
   "source": [
    "datos['year'] = datos['decision_date'].dt.year"
   ]
  },
  {
   "cell_type": "code",
   "execution_count": 25,
   "metadata": {},
   "outputs": [
    {
     "data": {
      "text/plain": [
       "NEW YORK           17198\n",
       "COLLEGE STATION    11985\n",
       "SANTA CLARA        10519\n",
       "SAN JOSE            9147\n",
       "REDMOND             8485\n",
       "MOUNTAIN VIEW       8121\n",
       "HOUSTON             6720\n",
       "SAN FRANCISCO       6352\n",
       "SUNNYVALE           6104\n",
       "PLANO               5607\n",
       "CHICAGO             5561\n",
       "SEATTLE             5051\n",
       "Name: employer_city, dtype: int64"
      ]
     },
     "execution_count": 25,
     "metadata": {},
     "output_type": "execute_result"
    }
   ],
   "source": [
    "datos['employer_city'] = datos['employer_city'].str.upper()\n",
    "datos['employer_city'].value_counts().head(12)"
   ]
  },
  {
   "cell_type": "code",
   "execution_count": 26,
   "metadata": {},
   "outputs": [
    {
     "data": {
      "text/plain": [
       "Software Engineer                   14372\n",
       "Computer Systems Analyst - V         4747\n",
       "Senior Software Engineer             3801\n",
       "Computer Systems Analyst - II        3416\n",
       "Software Developer                   2880\n",
       "Assistant Professor                  2604\n",
       "Programmer Analyst                   2534\n",
       "Computer Systems Analyst - IV        2496\n",
       "Systems Analyst                      2034\n",
       "Software Development Engineer II     1630\n",
       "Poultry Processing Worker            1594\n",
       "Component Design Engineer            1064\n",
       "Poultry Processor                    1037\n",
       "Business Analyst                      963\n",
       "software engineer                     932\n",
       "SOFTWARE ENGINEER                     877\n",
       "Senior Programmer Analyst             862\n",
       "Sr. Software Engineer                 847\n",
       "Senior Software Developer             817\n",
       "Commercial Cleaner                    802\n",
       "Process Engineer                      746\n",
       "Accountant                            719\n",
       "Computer Programmer                   687\n",
       "Computer Systems Analyst              684\n",
       "Database Administrator                654\n",
       "Software Engineer II                  653\n",
       "Sr. Programmer Analyst                641\n",
       "Software Development Engineer         623\n",
       "Hospitalist                           612\n",
       "Software Developer / Analyst          603\n",
       "Name: job_info_job_title, dtype: int64"
      ]
     },
     "execution_count": 26,
     "metadata": {},
     "output_type": "execute_result"
    }
   ],
   "source": [
    "#Estandarización de los cargos\n",
    "datos['job_info_job_title'].value_counts()[:30]"
   ]
  },
  {
   "cell_type": "code",
   "execution_count": 27,
   "metadata": {},
   "outputs": [
    {
     "data": {
      "text/plain": [
       "software engineer                18582\n",
       "computer systems analyst         12054\n",
       "senior software engineer          5802\n",
       "software developer                4501\n",
       "programmer analyst                3763\n",
       "assistant professor               2869\n",
       "software development engineer     2766\n",
       "systems analyst                   2587\n",
       "senior programmer analyst         1884\n",
       "senior software developer         1625\n",
       "poultry processing worker         1596\n",
       "business analyst                  1533\n",
       "poultry processor                 1153\n",
       "project manager                   1066\n",
       "component design engineer         1064\n",
       "accountant                         899\n",
       "commercial cleaner                 846\n",
       "database administrator             838\n",
       "senior systems analyst             835\n",
       "computer programmer                813\n",
       "Name: job_info_job_title, dtype: int64"
      ]
     },
     "execution_count": 27,
     "metadata": {},
     "output_type": "execute_result"
    }
   ],
   "source": [
    "datos['job_info_job_title'] = datos['job_info_job_title'].str.lower()\n",
    "datos['job_info_job_title'] = datos['job_info_job_title'].astype(str).str.split('-').str[0]\n",
    "datos['job_info_job_title'] = datos['job_info_job_title'].astype(str).str.split('ii').str[0]\n",
    "datos['job_info_job_title'] = datos['job_info_job_title'].astype(str).str.split('/').str[0]\n",
    "datos['job_info_job_title'] = datos['job_info_job_title'].astype(str).str.strip()\n",
    "datos['job_info_job_title'] = datos['job_info_job_title'].str.replace('sr.', 'senior')\n",
    "datos['job_info_job_title'].replace([\"NaN\", 'NaT','nan'], np.nan, inplace = True)\n",
    "datos['job_info_job_title'].value_counts()[:20]"
   ]
  },
  {
   "cell_type": "code",
   "execution_count": 28,
   "metadata": {},
   "outputs": [
    {
     "data": {
      "text/html": [
       "<div>\n",
       "<style scoped>\n",
       "    .dataframe tbody tr th:only-of-type {\n",
       "        vertical-align: middle;\n",
       "    }\n",
       "\n",
       "    .dataframe tbody tr th {\n",
       "        vertical-align: top;\n",
       "    }\n",
       "\n",
       "    .dataframe thead th {\n",
       "        text-align: right;\n",
       "    }\n",
       "</style>\n",
       "<table border=\"1\" class=\"dataframe\">\n",
       "  <thead>\n",
       "    <tr style=\"text-align: right;\">\n",
       "      <th></th>\n",
       "      <th>pw_amount_9089</th>\n",
       "      <th>pw_unit_of_pay_9089</th>\n",
       "    </tr>\n",
       "  </thead>\n",
       "  <tbody>\n",
       "    <tr>\n",
       "      <th>0</th>\n",
       "      <td>75629.0</td>\n",
       "      <td>yr</td>\n",
       "    </tr>\n",
       "    <tr>\n",
       "      <th>1</th>\n",
       "      <td>37024.0</td>\n",
       "      <td>yr</td>\n",
       "    </tr>\n",
       "    <tr>\n",
       "      <th>2</th>\n",
       "      <td>47923.0</td>\n",
       "      <td>yr</td>\n",
       "    </tr>\n",
       "    <tr>\n",
       "      <th>3</th>\n",
       "      <td>10.97</td>\n",
       "      <td>hr</td>\n",
       "    </tr>\n",
       "    <tr>\n",
       "      <th>4</th>\n",
       "      <td>94890.0</td>\n",
       "      <td>yr</td>\n",
       "    </tr>\n",
       "    <tr>\n",
       "      <th>5</th>\n",
       "      <td>37024.0</td>\n",
       "      <td>yr</td>\n",
       "    </tr>\n",
       "    <tr>\n",
       "      <th>6</th>\n",
       "      <td>47083.33</td>\n",
       "      <td>yr</td>\n",
       "    </tr>\n",
       "    <tr>\n",
       "      <th>7</th>\n",
       "      <td>36733.0</td>\n",
       "      <td>yr</td>\n",
       "    </tr>\n",
       "    <tr>\n",
       "      <th>8</th>\n",
       "      <td>44824.0</td>\n",
       "      <td>yr</td>\n",
       "    </tr>\n",
       "    <tr>\n",
       "      <th>9</th>\n",
       "      <td>12.86</td>\n",
       "      <td>hr</td>\n",
       "    </tr>\n",
       "    <tr>\n",
       "      <th>11</th>\n",
       "      <td>46176.0</td>\n",
       "      <td>yr</td>\n",
       "    </tr>\n",
       "    <tr>\n",
       "      <th>12</th>\n",
       "      <td>34.3</td>\n",
       "      <td>hr</td>\n",
       "    </tr>\n",
       "    <tr>\n",
       "      <th>13</th>\n",
       "      <td>74672.0</td>\n",
       "      <td>yr</td>\n",
       "    </tr>\n",
       "    <tr>\n",
       "      <th>14</th>\n",
       "      <td>36691.0</td>\n",
       "      <td>yr</td>\n",
       "    </tr>\n",
       "    <tr>\n",
       "      <th>15</th>\n",
       "      <td>15.64</td>\n",
       "      <td>hr</td>\n",
       "    </tr>\n",
       "    <tr>\n",
       "      <th>16</th>\n",
       "      <td>28.05</td>\n",
       "      <td>hr</td>\n",
       "    </tr>\n",
       "    <tr>\n",
       "      <th>17</th>\n",
       "      <td>12.06</td>\n",
       "      <td>hr</td>\n",
       "    </tr>\n",
       "    <tr>\n",
       "      <th>18</th>\n",
       "      <td>10.37</td>\n",
       "      <td>hr</td>\n",
       "    </tr>\n",
       "    <tr>\n",
       "      <th>19</th>\n",
       "      <td>10.83</td>\n",
       "      <td>hr</td>\n",
       "    </tr>\n",
       "    <tr>\n",
       "      <th>20</th>\n",
       "      <td>141731.0</td>\n",
       "      <td>yr</td>\n",
       "    </tr>\n",
       "  </tbody>\n",
       "</table>\n",
       "</div>"
      ],
      "text/plain": [
       "   pw_amount_9089 pw_unit_of_pay_9089\n",
       "0         75629.0                  yr\n",
       "1         37024.0                  yr\n",
       "2         47923.0                  yr\n",
       "3           10.97                  hr\n",
       "4         94890.0                  yr\n",
       "5         37024.0                  yr\n",
       "6        47083.33                  yr\n",
       "7         36733.0                  yr\n",
       "8         44824.0                  yr\n",
       "9           12.86                  hr\n",
       "11        46176.0                  yr\n",
       "12           34.3                  hr\n",
       "13        74672.0                  yr\n",
       "14        36691.0                  yr\n",
       "15          15.64                  hr\n",
       "16          28.05                  hr\n",
       "17          12.06                  hr\n",
       "18          10.37                  hr\n",
       "19          10.83                  hr\n",
       "20       141731.0                  yr"
      ]
     },
     "execution_count": 28,
     "metadata": {},
     "output_type": "execute_result"
    }
   ],
   "source": [
    "# estandarizacion de los sueldos y unidades de aplicacion del sueldo\n",
    "datos[['pw_amount_9089','pw_unit_of_pay_9089']].head(20)"
   ]
  },
  {
   "cell_type": "code",
   "execution_count": 29,
   "metadata": {},
   "outputs": [
    {
     "data": {
      "text/html": [
       "<div>\n",
       "<style scoped>\n",
       "    .dataframe tbody tr th:only-of-type {\n",
       "        vertical-align: middle;\n",
       "    }\n",
       "\n",
       "    .dataframe tbody tr th {\n",
       "        vertical-align: top;\n",
       "    }\n",
       "\n",
       "    .dataframe thead th {\n",
       "        text-align: right;\n",
       "    }\n",
       "</style>\n",
       "<table border=\"1\" class=\"dataframe\">\n",
       "  <thead>\n",
       "    <tr style=\"text-align: right;\">\n",
       "      <th></th>\n",
       "      <th>pw_amount_9089</th>\n",
       "      <th>pw_unit_of_pay_9089</th>\n",
       "    </tr>\n",
       "  </thead>\n",
       "  <tbody>\n",
       "    <tr>\n",
       "      <th>0</th>\n",
       "      <td>75629.00</td>\n",
       "      <td>Year</td>\n",
       "    </tr>\n",
       "    <tr>\n",
       "      <th>1</th>\n",
       "      <td>37024.00</td>\n",
       "      <td>Year</td>\n",
       "    </tr>\n",
       "    <tr>\n",
       "      <th>2</th>\n",
       "      <td>47923.00</td>\n",
       "      <td>Year</td>\n",
       "    </tr>\n",
       "    <tr>\n",
       "      <th>3</th>\n",
       "      <td>21940.00</td>\n",
       "      <td>Year</td>\n",
       "    </tr>\n",
       "    <tr>\n",
       "      <th>4</th>\n",
       "      <td>94890.00</td>\n",
       "      <td>Year</td>\n",
       "    </tr>\n",
       "    <tr>\n",
       "      <th>5</th>\n",
       "      <td>37024.00</td>\n",
       "      <td>Year</td>\n",
       "    </tr>\n",
       "    <tr>\n",
       "      <th>6</th>\n",
       "      <td>47083.33</td>\n",
       "      <td>Year</td>\n",
       "    </tr>\n",
       "    <tr>\n",
       "      <th>7</th>\n",
       "      <td>36733.00</td>\n",
       "      <td>Year</td>\n",
       "    </tr>\n",
       "    <tr>\n",
       "      <th>8</th>\n",
       "      <td>44824.00</td>\n",
       "      <td>Year</td>\n",
       "    </tr>\n",
       "    <tr>\n",
       "      <th>9</th>\n",
       "      <td>25720.00</td>\n",
       "      <td>Year</td>\n",
       "    </tr>\n",
       "    <tr>\n",
       "      <th>11</th>\n",
       "      <td>46176.00</td>\n",
       "      <td>Year</td>\n",
       "    </tr>\n",
       "    <tr>\n",
       "      <th>12</th>\n",
       "      <td>68600.00</td>\n",
       "      <td>Year</td>\n",
       "    </tr>\n",
       "    <tr>\n",
       "      <th>13</th>\n",
       "      <td>74672.00</td>\n",
       "      <td>Year</td>\n",
       "    </tr>\n",
       "    <tr>\n",
       "      <th>14</th>\n",
       "      <td>36691.00</td>\n",
       "      <td>Year</td>\n",
       "    </tr>\n",
       "    <tr>\n",
       "      <th>15</th>\n",
       "      <td>31280.00</td>\n",
       "      <td>Year</td>\n",
       "    </tr>\n",
       "    <tr>\n",
       "      <th>16</th>\n",
       "      <td>56100.00</td>\n",
       "      <td>Year</td>\n",
       "    </tr>\n",
       "    <tr>\n",
       "      <th>17</th>\n",
       "      <td>24120.00</td>\n",
       "      <td>Year</td>\n",
       "    </tr>\n",
       "    <tr>\n",
       "      <th>18</th>\n",
       "      <td>20740.00</td>\n",
       "      <td>Year</td>\n",
       "    </tr>\n",
       "    <tr>\n",
       "      <th>19</th>\n",
       "      <td>21660.00</td>\n",
       "      <td>Year</td>\n",
       "    </tr>\n",
       "    <tr>\n",
       "      <th>20</th>\n",
       "      <td>141731.00</td>\n",
       "      <td>Year</td>\n",
       "    </tr>\n",
       "  </tbody>\n",
       "</table>\n",
       "</div>"
      ],
      "text/plain": [
       "    pw_amount_9089 pw_unit_of_pay_9089\n",
       "0         75629.00                Year\n",
       "1         37024.00                Year\n",
       "2         47923.00                Year\n",
       "3         21940.00                Year\n",
       "4         94890.00                Year\n",
       "5         37024.00                Year\n",
       "6         47083.33                Year\n",
       "7         36733.00                Year\n",
       "8         44824.00                Year\n",
       "9         25720.00                Year\n",
       "11        46176.00                Year\n",
       "12        68600.00                Year\n",
       "13        74672.00                Year\n",
       "14        36691.00                Year\n",
       "15        31280.00                Year\n",
       "16        56100.00                Year\n",
       "17        24120.00                Year\n",
       "18        20740.00                Year\n",
       "19        21660.00                Year\n",
       "20       141731.00                Year"
      ]
     },
     "execution_count": 29,
     "metadata": {},
     "output_type": "execute_result"
    }
   ],
   "source": [
    "datos['pw_amount_9089'] = datos['pw_amount_9089'].str.replace(\",\",\"\") \n",
    "\n",
    "for unit in datos.pw_unit_of_pay_9089.unique():\n",
    "    if unit == \"hr\" or unit == \"Hour\":\n",
    "        datos.loc[datos['pw_unit_of_pay_9089'] == unit, 'pw_amount_9089'] = datos['pw_amount_9089'].apply(lambda x: float(x) * 8 * 250)\n",
    "        datos.loc[datos['pw_unit_of_pay_9089'] == unit, 'pw_unit_of_pay_9089'] = datos['pw_unit_of_pay_9089'].replace(to_replace = unit, value = \"Year\") \n",
    "    elif unit == \"wk\" or unit == \"Week\":\n",
    "        datos.loc[datos['pw_unit_of_pay_9089'] == unit, 'pw_amount_9089'] = datos['pw_amount_9089'].apply(lambda x: float(x) * 50)\n",
    "        datos.loc[datos['pw_unit_of_pay_9089'] == unit, 'pw_unit_of_pay_9089'] = datos['pw_unit_of_pay_9089'].replace(to_replace = unit, value = \"Year\")\n",
    "    elif unit == \"mth\" or unit == \"Month\":\n",
    "        datos.loc[datos['pw_unit_of_pay_9089'] == unit, 'pw_amount_9089'] = datos['pw_amount_9089'].apply(lambda x: float(x) * 12)\n",
    "        datos.loc[datos['pw_unit_of_pay_9089'] == unit, 'pw_unit_of_pay_9089'] = datos['pw_unit_of_pay_9089'].replace(to_replace = unit, value = \"Year\")\n",
    "    elif unit == \"bi\" or unit == \"Bi-Weekly\":  \n",
    "        datos.loc[datos['pw_unit_of_pay_9089'] == unit, 'pw_amount_9089'] = datos['pw_amount_9089'].apply(lambda x: float(x) * 25)\n",
    "        datos.loc[datos['pw_unit_of_pay_9089'] == unit, 'pw_unit_of_pay_9089'] = datos['pw_unit_of_pay_9089'].replace(to_replace = unit, value = \"Year\")\n",
    "    elif unit ==\"yr\":\n",
    "         datos.loc[datos['pw_unit_of_pay_9089'] == unit ,'pw_unit_of_pay_9089'] = datos['pw_unit_of_pay_9089'].replace(to_replace = unit, value = \"Year\")\n",
    "    else:\n",
    "        continue\n",
    "        \n",
    "#Reemplazamos los valores con la media\n",
    "datos['pw_amount_9089']= datos['pw_amount_9089'].fillna((datos['pw_amount_9089'].median()))\n",
    "\n",
    "#Se formatea el valor de los montos\n",
    "datos['pw_amount_9089'] = datos.pw_amount_9089.astype(float)\n",
    "\n",
    "datos[['pw_amount_9089','pw_unit_of_pay_9089']].head(20)"
   ]
  },
  {
   "cell_type": "code",
   "execution_count": 30,
   "metadata": {},
   "outputs": [
    {
     "name": "stdout",
     "output_type": "stream",
     "text": [
      "count      356168.00\n",
      "mean       469624.51\n",
      "std       7679620.28\n",
      "min             7.50\n",
      "25%         67808.00\n",
      "50%         86278.00\n",
      "75%        104790.00\n",
      "max     495748000.00\n",
      "Name: pw_amount_9089, dtype: float64\n"
     ]
    }
   ],
   "source": [
    "with pd.option_context('float_format', '{:.2f}'.format): print(datos.pw_amount_9089.describe())"
   ]
  },
  {
   "cell_type": "code",
   "execution_count": 31,
   "metadata": {},
   "outputs": [
    {
     "data": {
      "text/plain": [
       "0-30k        19810\n",
       "30-60k       47493\n",
       "60-90k      133050\n",
       "90-120k     112631\n",
       "120-150k     30532\n",
       "150-180k      7094\n",
       "180-210k      3801\n",
       "210-240k       604\n",
       "240-270k        29\n",
       "270k+         1123\n",
       "Name: remuneration, dtype: int64"
      ]
     },
     "execution_count": 31,
     "metadata": {},
     "output_type": "execute_result"
    }
   ],
   "source": [
    "# agrupamos en categorias los salarios para una mayor facilidad\n",
    "datos['remuneration'] = pd.cut(datos['pw_amount_9089'], [0, 30000, 60000,90000,120000,150000,180000,210000,240000,270000,495748000], right=False, labels=[\"0-30k\", \"30-60k\",\"60-90k\",\"90-120k\",\"120-150k\",\"150-180k\",\"180-210k\",\"210-240k\",\"240-270k\",\"270k+\"])\n",
    "salary = datos['remuneration'].value_counts()\n",
    "salary.iloc[np.argsort(salary.index)]"
   ]
  },
  {
   "cell_type": "code",
   "execution_count": 32,
   "metadata": {},
   "outputs": [
    {
     "name": "stdout",
     "output_type": "stream",
     "text": [
      "<class 'pandas.core.frame.DataFrame'>\n",
      "Int64Index: 356168 entries, 0 to 374353\n",
      "Columns: 122 entries, agent_city to remuneration\n",
      "dtypes: category(1), datetime64[ns](2), float64(9), int64(1), object(109)\n",
      "memory usage: 341.9+ MB\n"
     ]
    }
   ],
   "source": [
    "datos.info()"
   ]
  },
  {
   "cell_type": "code",
   "execution_count": 33,
   "metadata": {},
   "outputs": [],
   "source": [
    "#Reemplazamos los valores de case_status por 1 para certified y 0 para denied\n",
    "datos.loc[datos.case_status == 'Certified', 'case_status'] = 1\n",
    "datos.loc[datos.case_status == 'Denied', 'case_status'] = 0\n",
    "datos['case_status'] = datos['case_status'].astype(int)\n",
    "\n",
    "\n",
    "#Completamos el estado con la moda\n",
    "datos['employer_state'] = datos['employer_state'].fillna(datos['employer_state'].mode()[0]);"
   ]
  },
  {
   "cell_type": "code",
   "execution_count": 34,
   "metadata": {},
   "outputs": [],
   "source": [
    "# mapeamos los estados\n",
    "state_abbrevs = {\n",
    "    'Alabama': 'AL',\n",
    "    'Alaska': 'AK',\n",
    "    'Arizona': 'AZ',\n",
    "    'Arkansas': 'AR',\n",
    "    'California': 'CA',\n",
    "    'Colorado': 'CO',\n",
    "    'Connecticut': 'CT',\n",
    "    'Delaware': 'DE',\n",
    "    'Florida': 'FL',\n",
    "    'Georgia': 'GA',\n",
    "    'Hawaii': 'HI',\n",
    "    'Idaho': 'ID',\n",
    "    'Illinois': 'IL',\n",
    "    'Indiana': 'IN',\n",
    "    'Iowa': 'IA',\n",
    "    'Kansas': 'KS',\n",
    "    'Kentucky': 'KY',\n",
    "    'Louisiana': 'LA',\n",
    "    'Maine': 'ME',\n",
    "    'Maryland': 'MD',\n",
    "    'Massachusetts': 'MA',\n",
    "    'Michigan': 'MI',\n",
    "    'Minnesota': 'MN',\n",
    "    'Mississippi': 'MS',\n",
    "    'Missouri': 'MO',\n",
    "    'Montana': 'MT',\n",
    "    'Nebraska': 'NE',\n",
    "    'Nevada': 'NV',\n",
    "    'New Hampshire': 'NH',\n",
    "    'New Jersey': 'NJ',\n",
    "    'New Mexico': 'NM',\n",
    "    'New York': 'NY',\n",
    "    'North Carolina': 'NC',\n",
    "    'North Dakota': 'ND',\n",
    "    'Ohio': 'OH',\n",
    "    'Oklahoma': 'OK',\n",
    "    'Oregon': 'OR',\n",
    "    'Pennsylvania': 'PA',\n",
    "    'Rhode Island': 'RI',\n",
    "    'South Carolina': 'SC',\n",
    "    'South Dakota': 'SD',\n",
    "    'Tennessee': 'TN',\n",
    "    'Texas': 'TX',\n",
    "    'Utah': 'UT',\n",
    "    'Vermont': 'VT',\n",
    "    'Virginia': 'VA',\n",
    "    'Washington': 'WA',\n",
    "    'West Virginia': 'WV',\n",
    "    'Wisconsin': 'WI',\n",
    "    'Wyoming': 'WY',\n",
    "    'Northern Mariana Islands':'MP', \n",
    "    'Palau': 'PW', \n",
    "    'Puerto Rico': 'PR', \n",
    "    'Virgin Islands': 'VI', \n",
    "    'District of Columbia': 'DC'\n",
    "}\n",
    "\n",
    "us_state_abbrev = {k.upper(): v for k, v in state_abbrevs.items()}\n",
    "datos['employer_state'].replace(us_state_abbrev, inplace=True)\n",
    "datos.employer_state = datos.employer_state.astype(str)"
   ]
  },
  {
   "cell_type": "code",
   "execution_count": 35,
   "metadata": {},
   "outputs": [],
   "source": [
    "datos['pw_soc_code'] = datos['pw_soc_code'].str.replace('.','')\n",
    "datos['pw_soc_code'] = datos['pw_soc_code'].str.replace('-','')\n",
    "datos['pw_soc_code'] = datos['pw_soc_code'].astype(str).str[0:6]\n",
    "datos['pw_soc_code'].value_counts()\n",
    "\n",
    "#reemplazamos el pw_soc_code por la moda\n",
    "datos.loc[datos['pw_soc_code'] == \"nan\",'pw_soc_code'] = datos['pw_soc_code'].mode()[0]\n",
    "\n",
    "#reemplazamos los none por la moda\n",
    "datos.loc[datos['pw_soc_code'] == \"None\",'pw_soc_code'] = datos['pw_soc_code'].mode()[0]\n",
    "\n",
    "datos['pw_soc_code'] = datos['pw_soc_code'].astype(int)"
   ]
  },
  {
   "cell_type": "code",
   "execution_count": 36,
   "metadata": {},
   "outputs": [],
   "source": [
    "datos['class_of_admission']=datos['class_of_admission'].fillna((datos['class_of_admission'].mode()[0]))\n",
    "datos['country_of_citizenship']=datos['country_of_citizenship'].fillna((datos['country_of_citizenship'].mode()[0]))\n",
    "datos['employer_city']=datos['employer_city'].fillna((datos['employer_city'].mode()[0]))\n",
    "datos['pw_soc_title']=datos['pw_soc_title'].fillna((datos['pw_soc_title'].mode()[0]))\n",
    "datos['job_info_work_city']=datos['job_info_work_city'].fillna((datos['job_info_work_city'].mode()[0]))\n",
    "datos['job_info_work_state']=datos['job_info_work_state'].fillna((datos['job_info_work_state'].mode()[0]))\n",
    "datos['pw_level_9089']=datos['pw_level_9089'].fillna((datos['pw_level_9089'].mode()[0]))\n",
    "datos['pw_unit_of_pay_9089']=datos['pw_unit_of_pay_9089'].fillna((datos['pw_unit_of_pay_9089'].mode()[0]))\n",
    "datos['employer_name']=datos['employer_name'].fillna((datos['employer_name'].mode()[0]))\n",
    "datos['employer_name']=datos['employer_name'].astype(str).str.upper()\n",
    "datos['pw_source_name_9089']=datos['pw_source_name_9089'].fillna((datos['pw_source_name_9089'].mode()[0]))\n",
    "datos['remuneration']=datos['remuneration'].fillna((datos['remuneration'].mode()[0]))"
   ]
  },
  {
   "cell_type": "code",
   "execution_count": 37,
   "metadata": {},
   "outputs": [
    {
     "data": {
      "text/plain": [
       "(356168, 20)"
      ]
     },
     "execution_count": 37,
     "metadata": {},
     "output_type": "execute_result"
    }
   ],
   "source": [
    "# Vamos a filtrar solo aquellas columnas que tienen al menos un 85% de valores no perdidos\n",
    "numPermitido = len(datos)*0.85\n",
    "datos = datos.loc[:, datos.count() >= numPermitido]\n",
    "datos.shape"
   ]
  },
  {
   "cell_type": "code",
   "execution_count": 38,
   "metadata": {},
   "outputs": [
    {
     "name": "stdout",
     "output_type": "stream",
     "text": [
      "1 . El Attributo ' case_status ' presenta  0.0 % de valores nulos\n",
      "2 . El Attributo ' class_of_admission ' presenta  0.0 % de valores nulos\n",
      "3 . El Attributo ' country_of_citizenship ' presenta  0.0 % de valores nulos\n",
      "4 . El Attributo ' decision_date ' presenta  0.0 % de valores nulos\n",
      "5 . El Attributo ' employer_address_1 ' presenta  0.01 % de valores nulos\n",
      "6 . El Attributo ' employer_city ' presenta  0.0 % de valores nulos\n",
      "7 . El Attributo ' employer_name ' presenta  0.0 % de valores nulos\n",
      "8 . El Attributo ' employer_postal_code ' presenta  0.01 % de valores nulos\n",
      "9 . El Attributo ' employer_state ' presenta  0.0 % de valores nulos\n",
      "10 . El Attributo ' job_info_work_city ' presenta  0.0 % de valores nulos\n",
      "11 . El Attributo ' job_info_work_state ' presenta  0.0 % de valores nulos\n",
      "12 . El Attributo ' pw_amount_9089 ' presenta  0.0 % de valores nulos\n",
      "13 . El Attributo ' pw_level_9089 ' presenta  0.0 % de valores nulos\n",
      "14 . El Attributo ' pw_soc_code ' presenta  0.0 % de valores nulos\n",
      "15 . El Attributo ' pw_soc_title ' presenta  0.0 % de valores nulos\n",
      "16 . El Attributo ' pw_source_name_9089 ' presenta  0.0 % de valores nulos\n",
      "17 . El Attributo ' pw_unit_of_pay_9089 ' presenta  0.0 % de valores nulos\n",
      "18 . El Attributo ' case_number_new ' presenta  0.0 % de valores nulos\n",
      "19 . El Attributo ' year ' presenta  0.0 % de valores nulos\n",
      "20 . El Attributo ' remuneration ' presenta  0.0 % de valores nulos\n"
     ]
    }
   ],
   "source": [
    "getOmisionColumnas(datos)"
   ]
  },
  {
   "cell_type": "code",
   "execution_count": 39,
   "metadata": {},
   "outputs": [],
   "source": [
    "# Se eliminan columnas derivadas de otras\n",
    "columnasEliminar = ['decision_date','employer_address_1', 'employer_postal_code', 'job_info_work_city', \n",
    "                    'job_info_work_state', 'pw_amount_9089', 'pw_soc_title', \n",
    "                    'pw_unit_of_pay_9089', 'case_number_new'];\n",
    "datos=datos.drop(columnasEliminar, axis=1);"
   ]
  },
  {
   "cell_type": "code",
   "execution_count": 40,
   "metadata": {},
   "outputs": [
    {
     "name": "stdout",
     "output_type": "stream",
     "text": [
      "<class 'pandas.core.frame.DataFrame'>\n",
      "Int64Index: 356168 entries, 0 to 374353\n",
      "Data columns (total 11 columns):\n",
      "case_status               356168 non-null int32\n",
      "class_of_admission        356168 non-null object\n",
      "country_of_citizenship    356168 non-null object\n",
      "employer_city             356168 non-null object\n",
      "employer_name             356168 non-null object\n",
      "employer_state            356168 non-null object\n",
      "pw_level_9089             356168 non-null object\n",
      "pw_soc_code               356168 non-null int32\n",
      "pw_source_name_9089       356168 non-null object\n",
      "year                      356168 non-null int64\n",
      "remuneration              356168 non-null category\n",
      "dtypes: category(1), int32(2), int64(1), object(7)\n",
      "memory usage: 37.5+ MB\n"
     ]
    }
   ],
   "source": [
    "datos.info()"
   ]
  },
  {
   "cell_type": "code",
   "execution_count": 41,
   "metadata": {},
   "outputs": [
    {
     "data": {
      "text/html": [
       "<div>\n",
       "<style scoped>\n",
       "    .dataframe tbody tr th:only-of-type {\n",
       "        vertical-align: middle;\n",
       "    }\n",
       "\n",
       "    .dataframe tbody tr th {\n",
       "        vertical-align: top;\n",
       "    }\n",
       "\n",
       "    .dataframe thead th {\n",
       "        text-align: right;\n",
       "    }\n",
       "</style>\n",
       "<table border=\"1\" class=\"dataframe\">\n",
       "  <thead>\n",
       "    <tr style=\"text-align: right;\">\n",
       "      <th></th>\n",
       "      <th>case_status</th>\n",
       "      <th>class_of_admission</th>\n",
       "      <th>country_of_citizenship</th>\n",
       "      <th>employer_city</th>\n",
       "      <th>employer_name</th>\n",
       "      <th>employer_state</th>\n",
       "      <th>pw_level_9089</th>\n",
       "      <th>pw_soc_code</th>\n",
       "      <th>pw_source_name_9089</th>\n",
       "      <th>year</th>\n",
       "      <th>remuneration</th>\n",
       "    </tr>\n",
       "  </thead>\n",
       "  <tbody>\n",
       "    <tr>\n",
       "      <th>0</th>\n",
       "      <td>1</td>\n",
       "      <td>J-1</td>\n",
       "      <td>INDIA</td>\n",
       "      <td>NEW YORK</td>\n",
       "      <td>NETSOFT USA INC.</td>\n",
       "      <td>NY</td>\n",
       "      <td>Level II</td>\n",
       "      <td>151031</td>\n",
       "      <td>OES</td>\n",
       "      <td>2012</td>\n",
       "      <td>60-90k</td>\n",
       "    </tr>\n",
       "    <tr>\n",
       "      <th>1</th>\n",
       "      <td>0</td>\n",
       "      <td>B-2</td>\n",
       "      <td>INDIA</td>\n",
       "      <td>CARLSTADT</td>\n",
       "      <td>PINNACLE ENVIRONEMNTAL CORP</td>\n",
       "      <td>NY</td>\n",
       "      <td>Level I</td>\n",
       "      <td>474041</td>\n",
       "      <td>OES</td>\n",
       "      <td>2011</td>\n",
       "      <td>30-60k</td>\n",
       "    </tr>\n",
       "    <tr>\n",
       "      <th>2</th>\n",
       "      <td>1</td>\n",
       "      <td>H-1B</td>\n",
       "      <td>INDIA</td>\n",
       "      <td>GLEN ALLEN</td>\n",
       "      <td>SCHNABEL ENGINEERING, INC.</td>\n",
       "      <td>VA</td>\n",
       "      <td>Level I</td>\n",
       "      <td>172051</td>\n",
       "      <td>OES</td>\n",
       "      <td>2011</td>\n",
       "      <td>30-60k</td>\n",
       "    </tr>\n",
       "  </tbody>\n",
       "</table>\n",
       "</div>"
      ],
      "text/plain": [
       "   case_status class_of_admission country_of_citizenship employer_city  \\\n",
       "0            1                J-1                  INDIA      NEW YORK   \n",
       "1            0                B-2                  INDIA     CARLSTADT   \n",
       "2            1               H-1B                  INDIA    GLEN ALLEN   \n",
       "\n",
       "                 employer_name employer_state pw_level_9089  pw_soc_code  \\\n",
       "0             NETSOFT USA INC.             NY      Level II       151031   \n",
       "1  PINNACLE ENVIRONEMNTAL CORP             NY       Level I       474041   \n",
       "2   SCHNABEL ENGINEERING, INC.             VA       Level I       172051   \n",
       "\n",
       "  pw_source_name_9089  year remuneration  \n",
       "0                 OES  2012       60-90k  \n",
       "1                 OES  2011       30-60k  \n",
       "2                 OES  2011       30-60k  "
      ]
     },
     "execution_count": 41,
     "metadata": {},
     "output_type": "execute_result"
    }
   ],
   "source": [
    "datos.head(3)"
   ]
  },
  {
   "cell_type": "code",
   "execution_count": 42,
   "metadata": {},
   "outputs": [],
   "source": [
    "\"\"\"\n",
    "Se codifican etiquetas con valores entre 0 y (N-1) clases. \n",
    "Lo que se busca es etiquetar los valores de las diferentes columnas. \n",
    "\"\"\"\n",
    "from sklearn import preprocessing\n",
    "codificadorColumnas = {}\n",
    "\n",
    "for columna in datos.columns:\n",
    "    codificador = preprocessing.LabelEncoder()\n",
    "    codificador.fit(datos[columna])\n",
    "    datos[columna] = codificador.transform(datos[columna])\n",
    "    codificadorColumnas[columna] = codificador"
   ]
  },
  {
   "cell_type": "markdown",
   "metadata": {},
   "source": [
    "## Número de muestras\n",
    "\n",
    "Se va definir el número de muestras para el conjunto de entrenamiento y pruebas"
   ]
  },
  {
   "cell_type": "code",
   "execution_count": 43,
   "metadata": {},
   "outputs": [],
   "source": [
    "X = datos.loc[:, datos.columns != 'case_status']\n",
    "y = datos.case_status"
   ]
  },
  {
   "cell_type": "code",
   "execution_count": 44,
   "metadata": {},
   "outputs": [],
   "source": [
    "from sklearn.model_selection import train_test_split \n",
    "\n",
    "X_train, X_test, y_train, y_test = train_test_split(X, y)"
   ]
  },
  {
   "cell_type": "code",
   "execution_count": 45,
   "metadata": {},
   "outputs": [
    {
     "name": "stdout",
     "output_type": "stream",
     "text": [
      "Número de muestras para el conjunto de entrenamiento 267126\n",
      "Número de muestras para el conjunto de pruebas 89042\n"
     ]
    }
   ],
   "source": [
    "print ('Número de muestras para el conjunto de entrenamiento', len(X_train))\n",
    "print ('Número de muestras para el conjunto de pruebas', len(X_test))"
   ]
  },
  {
   "cell_type": "code",
   "execution_count": 46,
   "metadata": {},
   "outputs": [
    {
     "name": "stdout",
     "output_type": "stream",
     "text": [
      "Número de muestras por clase\n",
      "----------------------------\n"
     ]
    },
    {
     "data": {
      "text/plain": [
       "1    247899\n",
       "0     19227\n",
       "Name: case_status, dtype: int64"
      ]
     },
     "execution_count": 46,
     "metadata": {},
     "output_type": "execute_result"
    }
   ],
   "source": [
    "print ('Número de muestras por clase')\n",
    "print ('----------------------------')\n",
    "y_train.value_counts()"
   ]
  },
  {
   "cell_type": "markdown",
   "metadata": {},
   "source": [
    "## Estadística descriptiva y visualización de datos de las muestras\n",
    "\n"
   ]
  },
  {
   "cell_type": "code",
   "execution_count": 47,
   "metadata": {},
   "outputs": [
    {
     "data": {
      "text/plain": [
       "int64    10\n",
       "dtype: int64"
      ]
     },
     "execution_count": 47,
     "metadata": {},
     "output_type": "execute_result"
    }
   ],
   "source": [
    "# Tipos de datos existentes en las características\n",
    "X_train.dtypes.value_counts()"
   ]
  },
  {
   "cell_type": "code",
   "execution_count": 48,
   "metadata": {},
   "outputs": [
    {
     "data": {
      "text/html": [
       "<div>\n",
       "<style scoped>\n",
       "    .dataframe tbody tr th:only-of-type {\n",
       "        vertical-align: middle;\n",
       "    }\n",
       "\n",
       "    .dataframe tbody tr th {\n",
       "        vertical-align: top;\n",
       "    }\n",
       "\n",
       "    .dataframe thead th {\n",
       "        text-align: right;\n",
       "    }\n",
       "</style>\n",
       "<table border=\"1\" class=\"dataframe\">\n",
       "  <thead>\n",
       "    <tr style=\"text-align: right;\">\n",
       "      <th></th>\n",
       "      <th>class_of_admission</th>\n",
       "      <th>country_of_citizenship</th>\n",
       "      <th>employer_city</th>\n",
       "      <th>employer_name</th>\n",
       "      <th>employer_state</th>\n",
       "      <th>pw_level_9089</th>\n",
       "      <th>pw_soc_code</th>\n",
       "      <th>pw_source_name_9089</th>\n",
       "      <th>year</th>\n",
       "      <th>remuneration</th>\n",
       "    </tr>\n",
       "  </thead>\n",
       "  <tbody>\n",
       "    <tr>\n",
       "      <th>count</th>\n",
       "      <td>267126.000000</td>\n",
       "      <td>267126.000000</td>\n",
       "      <td>267126.000000</td>\n",
       "      <td>267126.000000</td>\n",
       "      <td>267126.000000</td>\n",
       "      <td>267126.000000</td>\n",
       "      <td>267126.000000</td>\n",
       "      <td>267126.000000</td>\n",
       "      <td>267126.000000</td>\n",
       "      <td>267126.000000</td>\n",
       "    </tr>\n",
       "    <tr>\n",
       "      <th>mean</th>\n",
       "      <td>20.141158</td>\n",
       "      <td>88.807364</td>\n",
       "      <td>2970.458761</td>\n",
       "      <td>33333.467323</td>\n",
       "      <td>27.572445</td>\n",
       "      <td>1.520271</td>\n",
       "      <td>152.631563</td>\n",
       "      <td>3.037638</td>\n",
       "      <td>3.615264</td>\n",
       "      <td>6.951581</td>\n",
       "    </tr>\n",
       "    <tr>\n",
       "      <th>std</th>\n",
       "      <td>6.098618</td>\n",
       "      <td>40.047972</td>\n",
       "      <td>1582.410401</td>\n",
       "      <td>19810.440157</td>\n",
       "      <td>18.063475</td>\n",
       "      <td>1.054888</td>\n",
       "      <td>142.353736</td>\n",
       "      <td>0.404373</td>\n",
       "      <td>1.359648</td>\n",
       "      <td>2.853609</td>\n",
       "    </tr>\n",
       "    <tr>\n",
       "      <th>min</th>\n",
       "      <td>0.000000</td>\n",
       "      <td>0.000000</td>\n",
       "      <td>0.000000</td>\n",
       "      <td>0.000000</td>\n",
       "      <td>0.000000</td>\n",
       "      <td>0.000000</td>\n",
       "      <td>0.000000</td>\n",
       "      <td>0.000000</td>\n",
       "      <td>0.000000</td>\n",
       "      <td>0.000000</td>\n",
       "    </tr>\n",
       "    <tr>\n",
       "      <th>25%</th>\n",
       "      <td>19.000000</td>\n",
       "      <td>79.000000</td>\n",
       "      <td>1466.000000</td>\n",
       "      <td>15646.250000</td>\n",
       "      <td>6.000000</td>\n",
       "      <td>1.000000</td>\n",
       "      <td>93.000000</td>\n",
       "      <td>3.000000</td>\n",
       "      <td>3.000000</td>\n",
       "      <td>7.000000</td>\n",
       "    </tr>\n",
       "    <tr>\n",
       "      <th>50%</th>\n",
       "      <td>19.000000</td>\n",
       "      <td>79.000000</td>\n",
       "      <td>3344.000000</td>\n",
       "      <td>30625.500000</td>\n",
       "      <td>27.000000</td>\n",
       "      <td>1.000000</td>\n",
       "      <td>96.000000</td>\n",
       "      <td>3.000000</td>\n",
       "      <td>4.000000</td>\n",
       "      <td>8.000000</td>\n",
       "    </tr>\n",
       "    <tr>\n",
       "      <th>75%</th>\n",
       "      <td>19.000000</td>\n",
       "      <td>79.000000</td>\n",
       "      <td>4409.000000</td>\n",
       "      <td>49938.000000</td>\n",
       "      <td>44.000000</td>\n",
       "      <td>3.000000</td>\n",
       "      <td>134.000000</td>\n",
       "      <td>3.000000</td>\n",
       "      <td>5.000000</td>\n",
       "      <td>9.000000</td>\n",
       "    </tr>\n",
       "    <tr>\n",
       "      <th>max</th>\n",
       "      <td>56.000000</td>\n",
       "      <td>200.000000</td>\n",
       "      <td>5781.000000</td>\n",
       "      <td>69575.000000</td>\n",
       "      <td>58.000000</td>\n",
       "      <td>3.000000</td>\n",
       "      <td>768.000000</td>\n",
       "      <td>5.000000</td>\n",
       "      <td>5.000000</td>\n",
       "      <td>9.000000</td>\n",
       "    </tr>\n",
       "  </tbody>\n",
       "</table>\n",
       "</div>"
      ],
      "text/plain": [
       "       class_of_admission  country_of_citizenship  employer_city  \\\n",
       "count       267126.000000           267126.000000  267126.000000   \n",
       "mean            20.141158               88.807364    2970.458761   \n",
       "std              6.098618               40.047972    1582.410401   \n",
       "min              0.000000                0.000000       0.000000   \n",
       "25%             19.000000               79.000000    1466.000000   \n",
       "50%             19.000000               79.000000    3344.000000   \n",
       "75%             19.000000               79.000000    4409.000000   \n",
       "max             56.000000              200.000000    5781.000000   \n",
       "\n",
       "       employer_name  employer_state  pw_level_9089    pw_soc_code  \\\n",
       "count  267126.000000   267126.000000  267126.000000  267126.000000   \n",
       "mean    33333.467323       27.572445       1.520271     152.631563   \n",
       "std     19810.440157       18.063475       1.054888     142.353736   \n",
       "min         0.000000        0.000000       0.000000       0.000000   \n",
       "25%     15646.250000        6.000000       1.000000      93.000000   \n",
       "50%     30625.500000       27.000000       1.000000      96.000000   \n",
       "75%     49938.000000       44.000000       3.000000     134.000000   \n",
       "max     69575.000000       58.000000       3.000000     768.000000   \n",
       "\n",
       "       pw_source_name_9089           year   remuneration  \n",
       "count        267126.000000  267126.000000  267126.000000  \n",
       "mean              3.037638       3.615264       6.951581  \n",
       "std               0.404373       1.359648       2.853609  \n",
       "min               0.000000       0.000000       0.000000  \n",
       "25%               3.000000       3.000000       7.000000  \n",
       "50%               3.000000       4.000000       8.000000  \n",
       "75%               3.000000       5.000000       9.000000  \n",
       "max               5.000000       5.000000       9.000000  "
      ]
     },
     "execution_count": 48,
     "metadata": {},
     "output_type": "execute_result"
    }
   ],
   "source": [
    "# Descripción de las características con datos de tipo numérico\n",
    "\n",
    "X_train.describe()"
   ]
  },
  {
   "cell_type": "code",
   "execution_count": 49,
   "metadata": {},
   "outputs": [
    {
     "data": {
      "text/html": [
       "<div>\n",
       "<style scoped>\n",
       "    .dataframe tbody tr th:only-of-type {\n",
       "        vertical-align: middle;\n",
       "    }\n",
       "\n",
       "    .dataframe tbody tr th {\n",
       "        vertical-align: top;\n",
       "    }\n",
       "\n",
       "    .dataframe thead th {\n",
       "        text-align: right;\n",
       "    }\n",
       "</style>\n",
       "<table border=\"1\" class=\"dataframe\">\n",
       "  <thead>\n",
       "    <tr style=\"text-align: right;\">\n",
       "      <th></th>\n",
       "      <th>class_of_admission</th>\n",
       "      <th>country_of_citizenship</th>\n",
       "      <th>employer_city</th>\n",
       "      <th>employer_name</th>\n",
       "      <th>employer_state</th>\n",
       "      <th>pw_level_9089</th>\n",
       "      <th>pw_soc_code</th>\n",
       "      <th>pw_source_name_9089</th>\n",
       "      <th>year</th>\n",
       "      <th>remuneration</th>\n",
       "    </tr>\n",
       "  </thead>\n",
       "  <tbody>\n",
       "    <tr>\n",
       "      <th>143163</th>\n",
       "      <td>19</td>\n",
       "      <td>34</td>\n",
       "      <td>3506</td>\n",
       "      <td>8772</td>\n",
       "      <td>40</td>\n",
       "      <td>3</td>\n",
       "      <td>63</td>\n",
       "      <td>3</td>\n",
       "      <td>4</td>\n",
       "      <td>9</td>\n",
       "    </tr>\n",
       "    <tr>\n",
       "      <th>102447</th>\n",
       "      <td>19</td>\n",
       "      <td>195</td>\n",
       "      <td>3141</td>\n",
       "      <td>57866</td>\n",
       "      <td>11</td>\n",
       "      <td>1</td>\n",
       "      <td>191</td>\n",
       "      <td>3</td>\n",
       "      <td>3</td>\n",
       "      <td>9</td>\n",
       "    </tr>\n",
       "    <tr>\n",
       "      <th>10076</th>\n",
       "      <td>19</td>\n",
       "      <td>79</td>\n",
       "      <td>3955</td>\n",
       "      <td>4636</td>\n",
       "      <td>3</td>\n",
       "      <td>0</td>\n",
       "      <td>357</td>\n",
       "      <td>3</td>\n",
       "      <td>0</td>\n",
       "      <td>1</td>\n",
       "    </tr>\n",
       "    <tr>\n",
       "      <th>2176</th>\n",
       "      <td>25</td>\n",
       "      <td>79</td>\n",
       "      <td>953</td>\n",
       "      <td>59595</td>\n",
       "      <td>11</td>\n",
       "      <td>3</td>\n",
       "      <td>76</td>\n",
       "      <td>3</td>\n",
       "      <td>1</td>\n",
       "      <td>9</td>\n",
       "    </tr>\n",
       "    <tr>\n",
       "      <th>135484</th>\n",
       "      <td>19</td>\n",
       "      <td>79</td>\n",
       "      <td>517</td>\n",
       "      <td>55116</td>\n",
       "      <td>23</td>\n",
       "      <td>1</td>\n",
       "      <td>76</td>\n",
       "      <td>3</td>\n",
       "      <td>4</td>\n",
       "      <td>8</td>\n",
       "    </tr>\n",
       "  </tbody>\n",
       "</table>\n",
       "</div>"
      ],
      "text/plain": [
       "        class_of_admission  country_of_citizenship  employer_city  \\\n",
       "143163                  19                      34           3506   \n",
       "102447                  19                     195           3141   \n",
       "10076                   19                      79           3955   \n",
       "2176                    25                      79            953   \n",
       "135484                  19                      79            517   \n",
       "\n",
       "        employer_name  employer_state  pw_level_9089  pw_soc_code  \\\n",
       "143163           8772              40              3           63   \n",
       "102447          57866              11              1          191   \n",
       "10076            4636               3              0          357   \n",
       "2176            59595              11              3           76   \n",
       "135484          55116              23              1           76   \n",
       "\n",
       "        pw_source_name_9089  year  remuneration  \n",
       "143163                    3     4             9  \n",
       "102447                    3     3             9  \n",
       "10076                     3     0             1  \n",
       "2176                      3     1             9  \n",
       "135484                    3     4             8  "
      ]
     },
     "execution_count": 49,
     "metadata": {},
     "output_type": "execute_result"
    }
   ],
   "source": [
    "# Visualizar los primeros datos de entrenamiento\n",
    "X_train.head()"
   ]
  },
  {
   "cell_type": "code",
   "execution_count": 50,
   "metadata": {},
   "outputs": [],
   "source": [
    "# funcion para crear un gráfico\n",
    "def crearGrafico(data): \n",
    "    dataDiccionario = {}\n",
    "    \n",
    "    for value in data.dropna():\n",
    "        if value in dataDiccionario:\n",
    "            dataDiccionario[value] += 1\n",
    "        else:\n",
    "            dataDiccionario[value] = 1\n",
    "            \n",
    "    \n",
    "    etiquetas = []\n",
    "    valores = []\n",
    "    \n",
    "    for key, value in dataDiccionario.items():\n",
    "        etiquetas.append(key)\n",
    "        valores.append(value)\n",
    "        \n",
    "    plt.figure(figsize=(6,6))    \n",
    "    sns.set_context(rc={\"font.size\":10,\"axes.labelsize\":11,\"xtick.labelsize\" : 11})\n",
    "    plt.pie(valores, labels=etiquetas, autopct='%1.1f%%', pctdistance = 0.9,\n",
    "          rotatelabels = 90, startangle=140, labeldistance = 1.05)"
   ]
  },
  {
   "cell_type": "code",
   "execution_count": 51,
   "metadata": {},
   "outputs": [
    {
     "name": "stdout",
     "output_type": "stream",
     "text": [
      "% del estado de cada una de las aplicaciones para visa\n"
     ]
    },
    {
     "data": {
      "image/png": "[encoded data removed]",
      "text/plain": [
       "<matplotlib.figure.Figure at 0x18f88e050b8>"
      ]
     },
     "metadata": {},
     "output_type": "display_data"
    }
   ],
   "source": [
    "print ('% del estado de cada una de las aplicaciones para visa')\n",
    "crearGrafico(y_train)"
   ]
  },
  {
   "cell_type": "markdown",
   "metadata": {},
   "source": [
    "# Aplicacion de Regresión logística\n",
    "\n",
    "Aplicación del modelo de regresión logística "
   ]
  },
  {
   "cell_type": "code",
   "execution_count": 52,
   "metadata": {},
   "outputs": [
    {
     "data": {
      "text/plain": [
       "LogisticRegression(C=1.0, class_weight=None, dual=False, fit_intercept=True,\n",
       "          intercept_scaling=1, max_iter=100, multi_class='ovr', n_jobs=1,\n",
       "          penalty='l2', random_state=None, solver='liblinear', tol=0.0001,\n",
       "          verbose=0, warm_start=False)"
      ]
     },
     "execution_count": 52,
     "metadata": {},
     "output_type": "execute_result"
    }
   ],
   "source": [
    "from sklearn.linear_model import LogisticRegression\n",
    "modelo = LogisticRegression()\n",
    "modelo.fit(X_train, y_train)"
   ]
  },
  {
   "cell_type": "code",
   "execution_count": 53,
   "metadata": {
    "scrolled": true
   },
   "outputs": [
    {
     "name": "stdout",
     "output_type": "stream",
     "text": [
      "Predicciones correctas :  82622\n",
      "Número de muestras     :  89042\n",
      "Exactitud (manual)     :  0.9278991936389569\n",
      "Exactitud (score)      :  0.9278991936389569\n",
      "Exactitud (metrics)    :  0.9278991936389569\n"
     ]
    }
   ],
   "source": [
    "from sklearn import metrics\n",
    "\n",
    "predicciones_test = modelo.predict(X_test)\n",
    "num_predicciones_correctas = (y_test == predicciones_test).sum()\n",
    "num_total_de_muestras = len(y_test)\n",
    "exactitud = num_predicciones_correctas / num_total_de_muestras\n",
    "\n",
    "print ( 'Predicciones correctas : ', num_predicciones_correctas )\n",
    "print ( 'Número de muestras     : ', num_total_de_muestras )\n",
    "print ( 'Exactitud (manual)     : ', exactitud )\n",
    "\n",
    "# Usando scikit-learn\n",
    "print ( 'Exactitud (score)      : ', modelo.score(X_test, y_test) )\n",
    "print ( 'Exactitud (metrics)    : ', metrics.accuracy_score(y_test, predicciones_test) )"
   ]
  },
  {
   "cell_type": "markdown",
   "metadata": {},
   "source": [
    "### Matriz de confusión\n",
    "\n",
    "La matriz de confusión es un sumario del rendimiento de un clasificador.\n",
    "\n",
    "<img src=\"http://www.nature.com/nmeth/journal/v13/n8/images/nmeth.3945-F1.jpg\" style=\"width: 500px;\"/>\n",
    "\n",
    "Para obtener sus valores usamos el método [`metrics.confusion_matrix`](http://scikit-learn.org/stable/modules/generated/sklearn.metrics.confusion_matrix.html):"
   ]
  },
  {
   "cell_type": "code",
   "execution_count": 54,
   "metadata": {},
   "outputs": [
    {
     "name": "stdout",
     "output_type": "stream",
     "text": [
      "              +-----------------+\n",
      "              |   Predicción    |\n",
      "              +-----------------+\n",
      "              |    +   |    -   |\n",
      "+-------+-----+--------+--------+\n",
      "| Valor |  +  |   82593 |   27   |\n",
      "| real  +-----+--------+--------+\n",
      "|       |  -  |   6393  |   29  |\n",
      "+-------+-----+--------+--------+\n",
      "\n",
      "Exactitud    :  0.9278991936389569\n"
     ]
    }
   ],
   "source": [
    "matriz_confusion = metrics.confusion_matrix(y_test, predicciones_test)\n",
    "\n",
    "# Mapeo según http://scikit-learn.org/stable/modules/generated/sklearn.metrics.confusion_matrix.html\n",
    "TN = matriz_confusion[0,0]\n",
    "FN = matriz_confusion[1,0]\n",
    "FP = matriz_confusion[0,1]\n",
    "TP = matriz_confusion[1,1]\n",
    "\n",
    "print ('              +-----------------+')\n",
    "print ('              |   Predicción    |')\n",
    "print ('              +-----------------+')\n",
    "print ('              |    +   |    -   |')\n",
    "print ('+-------+-----+--------+--------+')\n",
    "print ('| Valor |  +  |   %d |   %d   |'   % (TP, FN) )\n",
    "print ('| real  +-----+--------+--------+')\n",
    "print ('|       |  -  |   %d  |   %d  |'    % (FP, TN) )\n",
    "print ('+-------+-----+--------+--------+')\n",
    "print ()\n",
    "print ( 'Exactitud    : ', (TP+TN)/(TP+FN+FP+TN) )"
   ]
  }
 ],
 "metadata": {
  "kernelspec": {
   "display_name": "Python 3",
   "language": "python",
   "name": "python3"
  },
  "language_info": {
   "codemirror_mode": {
    "name": "ipython",
    "version": 3
   },
   "file_extension": ".py",
   "mimetype": "text/x-python",
   "name": "python",
   "nbconvert_exporter": "python",
   "pygments_lexer": "ipython3",
   "version": "3.6.4"
  }
 },
 "nbformat": 4,
 "nbformat_minor": 2
}

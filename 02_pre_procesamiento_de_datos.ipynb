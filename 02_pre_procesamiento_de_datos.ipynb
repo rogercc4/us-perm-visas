{
 "cells": [
  {
   "cell_type": "markdown",
   "metadata": {},
   "source": [
    "## Pre procesamiento de los datos"
   ]
  },
  {
   "cell_type": "code",
   "execution_count": 1,
   "metadata": {},
   "outputs": [],
   "source": [
    "# importando librerías necesarias\n",
    "import numpy as np\n",
    "import pandas as pd\n",
    "import matplotlib.pyplot as plt\n",
    "%matplotlib inline\n",
    "import seaborn as sns"
   ]
  },
  {
   "cell_type": "code",
   "execution_count": 2,
   "metadata": {},
   "outputs": [],
   "source": [
    "# cargar el dataset\n",
    "datos = pd.read_csv('us_perm_visas.csv',low_memory=False)"
   ]
  },
  {
   "cell_type": "code",
   "execution_count": 3,
   "metadata": {},
   "outputs": [
    {
     "data": {
      "text/html": [
       "<div>\n",
       "<style scoped>\n",
       "    .dataframe tbody tr th:only-of-type {\n",
       "        vertical-align: middle;\n",
       "    }\n",
       "\n",
       "    .dataframe tbody tr th {\n",
       "        vertical-align: top;\n",
       "    }\n",
       "\n",
       "    .dataframe thead th {\n",
       "        text-align: right;\n",
       "    }\n",
       "</style>\n",
       "<table border=\"1\" class=\"dataframe\">\n",
       "  <thead>\n",
       "    <tr style=\"text-align: right;\">\n",
       "      <th></th>\n",
       "      <th>add_these_pw_job_title_9089</th>\n",
       "      <th>agent_city</th>\n",
       "      <th>agent_firm_name</th>\n",
       "      <th>agent_state</th>\n",
       "      <th>application_type</th>\n",
       "      <th>case_no</th>\n",
       "      <th>case_number</th>\n",
       "      <th>case_received_date</th>\n",
       "      <th>case_status</th>\n",
       "      <th>class_of_admission</th>\n",
       "      <th>...</th>\n",
       "      <th>ri_pvt_employment_firm_to</th>\n",
       "      <th>ri_us_workers_considered</th>\n",
       "      <th>schd_a_sheepherder</th>\n",
       "      <th>us_economic_sector</th>\n",
       "      <th>wage_offer_from_9089</th>\n",
       "      <th>wage_offer_to_9089</th>\n",
       "      <th>wage_offer_unit_of_pay_9089</th>\n",
       "      <th>wage_offered_from_9089</th>\n",
       "      <th>wage_offered_to_9089</th>\n",
       "      <th>wage_offered_unit_of_pay_9089</th>\n",
       "    </tr>\n",
       "  </thead>\n",
       "  <tbody>\n",
       "    <tr>\n",
       "      <th>0</th>\n",
       "      <td>NaN</td>\n",
       "      <td>NaN</td>\n",
       "      <td>NaN</td>\n",
       "      <td>NaN</td>\n",
       "      <td>PERM</td>\n",
       "      <td>A-07323-97014</td>\n",
       "      <td>NaN</td>\n",
       "      <td>NaN</td>\n",
       "      <td>Certified</td>\n",
       "      <td>J-1</td>\n",
       "      <td>...</td>\n",
       "      <td>NaN</td>\n",
       "      <td>NaN</td>\n",
       "      <td>NaN</td>\n",
       "      <td>IT</td>\n",
       "      <td>75629.0</td>\n",
       "      <td>NaN</td>\n",
       "      <td>yr</td>\n",
       "      <td>NaN</td>\n",
       "      <td>NaN</td>\n",
       "      <td>NaN</td>\n",
       "    </tr>\n",
       "    <tr>\n",
       "      <th>1</th>\n",
       "      <td>NaN</td>\n",
       "      <td>NaN</td>\n",
       "      <td>NaN</td>\n",
       "      <td>NaN</td>\n",
       "      <td>PERM</td>\n",
       "      <td>A-07332-99439</td>\n",
       "      <td>NaN</td>\n",
       "      <td>NaN</td>\n",
       "      <td>Denied</td>\n",
       "      <td>B-2</td>\n",
       "      <td>...</td>\n",
       "      <td>NaN</td>\n",
       "      <td>NaN</td>\n",
       "      <td>NaN</td>\n",
       "      <td>Other Economic Sector</td>\n",
       "      <td>37024.0</td>\n",
       "      <td>NaN</td>\n",
       "      <td>yr</td>\n",
       "      <td>NaN</td>\n",
       "      <td>NaN</td>\n",
       "      <td>NaN</td>\n",
       "    </tr>\n",
       "    <tr>\n",
       "      <th>2</th>\n",
       "      <td>NaN</td>\n",
       "      <td>NaN</td>\n",
       "      <td>NaN</td>\n",
       "      <td>NaN</td>\n",
       "      <td>PERM</td>\n",
       "      <td>A-07333-99643</td>\n",
       "      <td>NaN</td>\n",
       "      <td>NaN</td>\n",
       "      <td>Certified</td>\n",
       "      <td>H-1B</td>\n",
       "      <td>...</td>\n",
       "      <td>NaN</td>\n",
       "      <td>NaN</td>\n",
       "      <td>NaN</td>\n",
       "      <td>Aerospace</td>\n",
       "      <td>47923.0</td>\n",
       "      <td>NaN</td>\n",
       "      <td>yr</td>\n",
       "      <td>NaN</td>\n",
       "      <td>NaN</td>\n",
       "      <td>NaN</td>\n",
       "    </tr>\n",
       "  </tbody>\n",
       "</table>\n",
       "<p>3 rows × 154 columns</p>\n",
       "</div>"
      ],
      "text/plain": [
       "  add_these_pw_job_title_9089 agent_city agent_firm_name agent_state  \\\n",
       "0                         NaN        NaN             NaN         NaN   \n",
       "1                         NaN        NaN             NaN         NaN   \n",
       "2                         NaN        NaN             NaN         NaN   \n",
       "\n",
       "  application_type        case_no case_number case_received_date case_status  \\\n",
       "0             PERM  A-07323-97014         NaN                NaN   Certified   \n",
       "1             PERM  A-07332-99439         NaN                NaN      Denied   \n",
       "2             PERM  A-07333-99643         NaN                NaN   Certified   \n",
       "\n",
       "  class_of_admission              ...               ri_pvt_employment_firm_to  \\\n",
       "0                J-1              ...                                     NaN   \n",
       "1                B-2              ...                                     NaN   \n",
       "2               H-1B              ...                                     NaN   \n",
       "\n",
       "  ri_us_workers_considered schd_a_sheepherder     us_economic_sector  \\\n",
       "0                      NaN                NaN                     IT   \n",
       "1                      NaN                NaN  Other Economic Sector   \n",
       "2                      NaN                NaN              Aerospace   \n",
       "\n",
       "  wage_offer_from_9089 wage_offer_to_9089 wage_offer_unit_of_pay_9089  \\\n",
       "0              75629.0                NaN                          yr   \n",
       "1              37024.0                NaN                          yr   \n",
       "2              47923.0                NaN                          yr   \n",
       "\n",
       "  wage_offered_from_9089 wage_offered_to_9089  wage_offered_unit_of_pay_9089  \n",
       "0                    NaN                  NaN                            NaN  \n",
       "1                    NaN                  NaN                            NaN  \n",
       "2                    NaN                  NaN                            NaN  \n",
       "\n",
       "[3 rows x 154 columns]"
      ]
     },
     "execution_count": 3,
     "metadata": {},
     "output_type": "execute_result"
    }
   ],
   "source": [
    "# mostrar las primeras 3 filas\n",
    "datos.head(3)"
   ]
  },
  {
   "cell_type": "markdown",
   "metadata": {},
   "source": [
    "### Pre-procesamiento de datos"
   ]
  },
  {
   "cell_type": "code",
   "execution_count": 4,
   "metadata": {},
   "outputs": [],
   "source": [
    "def getInfodata(data): \n",
    "    print('Numero de postulaciones para obtener visa: ', len(data) )\n",
    "    print('Numero de características: ', len(data.columns) )"
   ]
  },
  {
   "cell_type": "code",
   "execution_count": 5,
   "metadata": {},
   "outputs": [
    {
     "name": "stdout",
     "output_type": "stream",
     "text": [
      "Numero de postulaciones para obtener visa:  374362\n",
      "Numero de características:  154\n"
     ]
    }
   ],
   "source": [
    "getInfodata(datos)"
   ]
  },
  {
   "cell_type": "code",
   "execution_count": 6,
   "metadata": {},
   "outputs": [
    {
     "name": "stdout",
     "output_type": "stream",
     "text": [
      "Primeras tres filas not null de case_no\n"
     ]
    },
    {
     "data": {
      "text/plain": [
       "0    A-07323-97014\n",
       "1    A-07332-99439\n",
       "2    A-07333-99643\n",
       "Name: case_no, dtype: object"
      ]
     },
     "execution_count": 6,
     "metadata": {},
     "output_type": "execute_result"
    }
   ],
   "source": [
    "## Al parecer los atributos  \"case_no\" y \"case_number\", parecen ser lo mismo, por lo que \n",
    "## vamos a verificar esta situación\n",
    "print(\"Primeras tres filas not null de case_no\")\n",
    "datos[datos.case_no.notnull()]['case_no'].head(3)"
   ]
  },
  {
   "cell_type": "code",
   "execution_count": 7,
   "metadata": {},
   "outputs": [
    {
     "name": "stdout",
     "output_type": "stream",
     "text": [
      "Últimas tres filas not null de case_no\n"
     ]
    },
    {
     "data": {
      "text/plain": [
       "135266    A-13219-86523\n",
       "135267    A-14267-09766\n",
       "135268    A-14086-56170\n",
       "Name: case_no, dtype: object"
      ]
     },
     "execution_count": 7,
     "metadata": {},
     "output_type": "execute_result"
    }
   ],
   "source": [
    "print(\"Últimas tres filas not null de case_no\")\n",
    "datos[datos.case_no.notnull()]['case_no'].tail(3)"
   ]
  },
  {
   "cell_type": "code",
   "execution_count": 8,
   "metadata": {},
   "outputs": [
    {
     "name": "stdout",
     "output_type": "stream",
     "text": [
      "Primeras tres filas not null de case_number\n"
     ]
    },
    {
     "data": {
      "text/plain": [
       "135269    A-13316-14231\n",
       "135270    A-13316-14287\n",
       "135271    A-13316-14312\n",
       "Name: case_number, dtype: object"
      ]
     },
     "execution_count": 8,
     "metadata": {},
     "output_type": "execute_result"
    }
   ],
   "source": [
    "print(\"Primeras tres filas not null de case_number\")\n",
    "datos[datos.case_number.notnull()]['case_number'].head(3)"
   ]
  },
  {
   "cell_type": "code",
   "execution_count": 9,
   "metadata": {},
   "outputs": [
    {
     "name": "stdout",
     "output_type": "stream",
     "text": [
      "Últimas filas not null de case_number\n"
     ]
    },
    {
     "data": {
      "text/plain": [
       "374359    A-16354-82345\n",
       "374360    A-16357-84250\n",
       "374361    A-16279-59292\n",
       "Name: case_number, dtype: object"
      ]
     },
     "execution_count": 9,
     "metadata": {},
     "output_type": "execute_result"
    }
   ],
   "source": [
    "print(\"Últimas filas not null de case_number\")\n",
    "datos[datos.case_number.notnull()]['case_number'].tail(3)"
   ]
  },
  {
   "cell_type": "markdown",
   "metadata": {},
   "source": [
    "Se observa que los valores faltantes de \"case_no\" son colocados en la columna \"case_number\". \n",
    "Por tanto, vamos añadir una columna \"casenumber\" obteniendo los valores de las columnas \"case_no\" y \"case_number\""
   ]
  },
  {
   "cell_type": "code",
   "execution_count": 10,
   "metadata": {
    "scrolled": true
   },
   "outputs": [],
   "source": [
    "datacasenumber = []\n",
    "idColumnCaseNro = datos.columns.get_loc(\"case_no\")\n",
    "idColumnCaseNumber = datos.columns.get_loc(\"case_number\")\n",
    "\n",
    "\n",
    "for valor in datos.iloc[0:135269, idColumnCaseNro]:\n",
    "    datacasenumber.append(valor)\n",
    "    \n",
    "for valor in datos.iloc[135269:374362, idColumnCaseNumber]:\n",
    "    datacasenumber.append(valor)\n",
    "    \n",
    "datos['casenumber'] = datacasenumber"
   ]
  },
  {
   "cell_type": "code",
   "execution_count": 11,
   "metadata": {},
   "outputs": [],
   "source": [
    "datos = datos.drop(['case_no', 'case_number'], axis=1)"
   ]
  },
  {
   "cell_type": "markdown",
   "metadata": {},
   "source": [
    "Ahora se va proseguir a observar el atributo \"case_status\", que es el que define si se da o no la visa. "
   ]
  },
  {
   "cell_type": "code",
   "execution_count": 12,
   "metadata": {},
   "outputs": [
    {
     "data": {
      "text/plain": [
       "Certified            181933\n",
       "Certified-Expired    148586\n",
       "Denied                25649\n",
       "Withdrawn             18194\n",
       "Name: case_status, dtype: int64"
      ]
     },
     "execution_count": 12,
     "metadata": {},
     "output_type": "execute_result"
    }
   ],
   "source": [
    "datos.case_status.value_counts()"
   ]
  },
  {
   "cell_type": "markdown",
   "metadata": {},
   "source": [
    "Los valores que no interesan, son aquellos con valor \"Withdrawn\", ya que este no me indica si se otorgó o no la visa. "
   ]
  },
  {
   "cell_type": "code",
   "execution_count": 13,
   "metadata": {},
   "outputs": [
    {
     "data": {
      "text/plain": [
       "Certified            181933\n",
       "Certified-Expired    148586\n",
       "Denied                25649\n",
       "Name: case_status, dtype: int64"
      ]
     },
     "execution_count": 13,
     "metadata": {},
     "output_type": "execute_result"
    }
   ],
   "source": [
    "datos = datos[datos.case_status != 'Withdrawn']\n",
    "datos.case_status.value_counts()"
   ]
  },
  {
   "cell_type": "markdown",
   "metadata": {},
   "source": [
    "Ahora los valores \"Certified\" y \"Certified-Expired\" indican lo mismo, es decir que se otorgo la visa.\n",
    "Por tanto vamos a definir un sólo valor \"Certified\""
   ]
  },
  {
   "cell_type": "code",
   "execution_count": 14,
   "metadata": {},
   "outputs": [
    {
     "data": {
      "text/plain": [
       "Certified    330519\n",
       "Denied        25649\n",
       "Name: case_status, dtype: int64"
      ]
     },
     "execution_count": 14,
     "metadata": {},
     "output_type": "execute_result"
    }
   ],
   "source": [
    "datos.loc[datos['case_status'] == 'Certified-Expired', 'case_status'] = 'Certified'\n",
    "datos.case_status.value_counts()"
   ]
  },
  {
   "cell_type": "markdown",
   "metadata": {},
   "source": [
    "Ahora proseguimos a eliminar aquellas filas y columnas que tengan valores perdidos mayor a un 85% de su total."
   ]
  },
  {
   "cell_type": "code",
   "execution_count": 15,
   "metadata": {},
   "outputs": [
    {
     "data": {
      "text/plain": [
       "(356168, 153)"
      ]
     },
     "execution_count": 15,
     "metadata": {},
     "output_type": "execute_result"
    }
   ],
   "source": [
    "datos = datos.dropna(axis=0, how='all');\n",
    "datos = datos.dropna(axis=1, how='all');\n",
    "datos.shape"
   ]
  },
  {
   "cell_type": "code",
   "execution_count": 16,
   "metadata": {},
   "outputs": [
    {
     "data": {
      "text/plain": [
       "(356168, 18)"
      ]
     },
     "execution_count": 16,
     "metadata": {},
     "output_type": "execute_result"
    }
   ],
   "source": [
    "# Vamos a filtrar solo aquellas columnas que tienen al menos un 85% de valores no perdidos\n",
    "numObservaciones = len(datos)*0.85\n",
    "datos = datos.loc[:, datos.count() >= numObservaciones]\n",
    "datos.shape"
   ]
  }
 ],
 "metadata": {
  "kernelspec": {
   "display_name": "Python 3",
   "language": "python",
   "name": "python3"
  },
  "language_info": {
   "codemirror_mode": {
    "name": "ipython",
    "version": 3
   },
   "file_extension": ".py",
   "mimetype": "text/x-python",
   "name": "python",
   "nbconvert_exporter": "python",
   "pygments_lexer": "ipython3",
   "version": "3.6.4"
  }
 },
 "nbformat": 4,
 "nbformat_minor": 2
}
